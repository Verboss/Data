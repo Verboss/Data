{
 "cells": [
  {
   "cell_type": "code",
   "execution_count": 1,
   "metadata": {},
   "outputs": [
    {
     "name": "stdout",
     "output_type": "stream",
     "text": [
      "[3.  4.5 5.  4.5 3. ]\n"
     ]
    }
   ],
   "source": [
    "import numpy as np\n",
    "\n",
    "X = np.array([3, 4.5, 5, 4.5, 3])\n",
    "print(X)"
   ]
  },
  {
   "cell_type": "code",
   "execution_count": 2,
   "metadata": {},
   "outputs": [
    {
     "name": "stdout",
     "output_type": "stream",
     "text": [
      "[185.0, 179.5, 168.0, 192.0, 185.5]\n"
     ]
    }
   ],
   "source": [
    "X = ([185., 179.5, 168.0, 192., 185.5])\n",
    "print(X)"
   ]
  },
  {
   "cell_type": "code",
   "execution_count": 3,
   "metadata": {},
   "outputs": [
    {
     "data": {
      "text/plain": [
       "4.0"
      ]
     },
     "execution_count": 3,
     "metadata": {},
     "output_type": "execute_result"
    }
   ],
   "source": [
    "#MIARY TENDENCJI CENTRALNEJ\n",
    "#ŚREDNIA ARYTMETYCZNA\n",
    "\n",
    "X = np.array([3, 4.5, 5, 4.5, 3])\n",
    "X.mean()"
   ]
  },
  {
   "cell_type": "code",
   "execution_count": 7,
   "metadata": {},
   "outputs": [
    {
     "data": {
      "text/plain": [
       "4.5"
      ]
     },
     "execution_count": 7,
     "metadata": {},
     "output_type": "execute_result"
    }
   ],
   "source": [
    "#MEDIANA\n",
    "np.median(X)"
   ]
  },
  {
   "cell_type": "code",
   "execution_count": 8,
   "metadata": {},
   "outputs": [],
   "source": [
    "#MODA"
   ]
  },
  {
   "cell_type": "code",
   "execution_count": 9,
   "metadata": {},
   "outputs": [],
   "source": [
    "#MIARY ROZRZUTU\n",
    "#ŚREDNI BŁĄD\n",
    "X = [3.5, 4.0, 4.0]\n",
    "Y = [2.0, 4.0, 5.0]\n",
    "X_mean = np.mean(X)\n",
    "Y_mean = np.mean(Y)"
   ]
  },
  {
   "cell_type": "code",
   "execution_count": 10,
   "metadata": {},
   "outputs": [
    {
     "name": "stdout",
     "output_type": "stream",
     "text": [
      "X_mean: 3.8333\n",
      "Y_mean: 3.6667\n"
     ]
    }
   ],
   "source": [
    "print(f'X_mean: {X_mean:.4f}')\n",
    "print(f'Y_mean: {Y_mean:.4f}')"
   ]
  },
  {
   "cell_type": "code",
   "execution_count": 11,
   "metadata": {},
   "outputs": [
    {
     "name": "stdout",
     "output_type": "stream",
     "text": [
      "Średni błąd X: 0.2222\n",
      "Średni błąd Y: 1.1111\n"
     ]
    }
   ],
   "source": [
    "b_X = 1/ len(X) * (abs(X - X_mean).sum())\n",
    "b_Y = 1/ len(Y) * (abs(Y - Y_mean).sum())\n",
    "\n",
    "print(f'Średni błąd X: {b_X:.4f}')\n",
    "print(f'Średni błąd Y: {b_Y:.4f}')"
   ]
  },
  {
   "cell_type": "code",
   "execution_count": 16,
   "metadata": {},
   "outputs": [
    {
     "name": "stdout",
     "output_type": "stream",
     "text": [
      "Wariancja zmiennej X: 1.5556\n",
      "Wariancja zmiennej Y: 0.0556\n",
      "Odchylenie standardowe X: 1.2472\n",
      "Odchylenie standardowe Y: 0.2357\n"
     ]
    }
   ],
   "source": [
    "#WARIANCJA - ŚREDNI BŁĄD DO POTĘGI 2\n",
    "var_X = 1/ len(Y) * ((abs(Y - Y_mean)**2).sum())\n",
    "var_Y = 1/ len(X) * ((abs(X - X_mean)**2).sum())\n",
    "\n",
    "print(f'Wariancja zmiennej X: {var_X:.4f}')\n",
    "print(f'Wariancja zmiennej Y: {var_Y:.4f}')\n",
    "\n",
    "#ODCHYLENIE STANDARDOWE\n",
    "std_X = np.sqrt(var_X)\n",
    "std_Y = np.sqrt(var_Y)\n",
    "\n",
    "print(f'Odchylenie standardowe X: {std_X:.4f}')\n",
    "print(f'Odchylenie standardowe Y: {std_Y:.4f}')"
   ]
  },
  {
   "cell_type": "code",
   "execution_count": 15,
   "metadata": {},
   "outputs": [
    {
     "name": "stdout",
     "output_type": "stream",
     "text": [
      "0.23570226039551584\n",
      "1.247219128924647\n"
     ]
    }
   ],
   "source": [
    "#Funkcje w numpy\n",
    "print(np.std(X))\n",
    "print(np.std(Y))"
   ]
  },
  {
   "cell_type": "code",
   "execution_count": 17,
   "metadata": {},
   "outputs": [
    {
     "name": "stdout",
     "output_type": "stream",
     "text": [
      "Zbiór A: {2, 4, 6}\n",
      "Prawdopodobieństwo zdarzenia A: 0.5\n"
     ]
    }
   ],
   "source": [
    "#KWANTYL I KWARTYLE!\n",
    "\n",
    "#PRAWDOPODOBIEŃSTWO\n",
    "#PARZYSTE\n",
    "omega = {1,2 ,3, 4, 5, 6}\n",
    "A = {item for item in omega if item % 2 == 0}\n",
    "\n",
    "P_A = len(A) / len(omega)\n",
    "print(f'Zbiór A: {A}')\n",
    "print(f'Prawdopodobieństwo zdarzenia A: {P_A}')"
   ]
  },
  {
   "cell_type": "code",
   "execution_count": 23,
   "metadata": {},
   "outputs": [
    {
     "name": "stdout",
     "output_type": "stream",
     "text": [
      "Zbiór A: {5, 6}\n",
      "Prawdopodobieństwo zdarzenia A: 0.3333\n"
     ]
    }
   ],
   "source": [
    "#WIEKSZE OD 4\n",
    "omega = {1,2 ,3, 4, 5, 6}\n",
    "B = {item for item in omega if item > 4}\n",
    "\n",
    "P_B = len(B) / len(omega)\n",
    "print(f'Zbiór A: {B}')\n",
    "print(f'Prawdopodobieństwo zdarzenia A: {P_B:.4f}')"
   ]
  },
  {
   "cell_type": "code",
   "execution_count": 24,
   "metadata": {},
   "outputs": [
    {
     "name": "stdout",
     "output_type": "stream",
     "text": [
      "Przecięcie zbiorów A i B: {6}\n",
      "Iloczyn prawdopodobieństw zdarzeń A i B: 0.1667\n",
      "Prawdopodobieństwo iloczynu zdarzeń A i B: 0.1667\n",
      "Zdarzenia niezależne\n"
     ]
    }
   ],
   "source": [
    "intersection_AB = set.intersection(A, B)\n",
    "P_intersection_AB = len(intersection_AB) / len(omega)\n",
    "\n",
    "PA_PB = P_A * P_B\n",
    "\n",
    "print(f'Przecięcie zbiorów A i B: {intersection_AB}')\n",
    "print(f'Iloczyn prawdopodobieństw zdarzeń A i B: {PA_PB:.4f}')\n",
    "print(f'Prawdopodobieństwo iloczynu zdarzeń A i B: {P_intersection_AB:.4f}')\n",
    "\n",
    "check = 'Zdarzenia niezależne' if PA_PB == P_intersection_AB else 'Zdarzenia zależne'\n",
    "print(check)"
   ]
  },
  {
   "cell_type": "code",
   "execution_count": 29,
   "metadata": {},
   "outputs": [
    {
     "name": "stdout",
     "output_type": "stream",
     "text": [
      "Zbiór A: {2, 3, 4, 5, 6}\n",
      "Prawdopodobieństwo zdarzenia A: 0.8333\n",
      "Przecięcie zbiorów A i B: {2, 4, 6}\n",
      "Iloczyn prawdopodobieństw zdarzeń A i B: 0.4167\n",
      "Prawdopodobieństwo iloczynu zdarzeń A i B: 0.5000\n",
      "Zdarzenia zależne\n"
     ]
    }
   ],
   "source": [
    "C = {item for item in omega if item > 1}\n",
    "\n",
    "P_C = len(C) / len(omega)\n",
    "print(f'Zbiór A: {C}')\n",
    "print(f'Prawdopodobieństwo zdarzenia A: {P_C:.4f}')\n",
    "\n",
    "intersection_AC = set.intersection(A, C)\n",
    "P_intersection_AC = len(intersection_AC) / len(omega)\n",
    "\n",
    "PA_PC = P_A * P_C\n",
    "\n",
    "print(f'Przecięcie zbiorów A i B: {intersection_AC}')\n",
    "print(f'Iloczyn prawdopodobieństw zdarzeń A i B: {PA_PC:.4f}')\n",
    "print(f'Prawdopodobieństwo iloczynu zdarzeń A i B: {P_intersection_AC:.4f}')\n",
    "\n",
    "check = 'Zdarzenia niezależne' if PA_PC == P_intersection_AC else 'Zdarzenia zależne'\n",
    "print(check)"
   ]
  },
  {
   "cell_type": "code",
   "execution_count": 30,
   "metadata": {},
   "outputs": [
    {
     "name": "stdout",
     "output_type": "stream",
     "text": [
      "A: {2, 4, 6}\n",
      "B: {5, 6}\n",
      "Przecięcie A i B: {6}\n"
     ]
    }
   ],
   "source": [
    "#PRAWDOPODOBIEŃSTWO WARUNKOWE\n",
    "print(f'A: {A}')\n",
    "print(f'B: {B}')\n",
    "print(f'Przecięcie A i B: {intersection_AB}')\n"
   ]
  },
  {
   "cell_type": "code",
   "execution_count": 31,
   "metadata": {},
   "outputs": [
    {
     "name": "stdout",
     "output_type": "stream",
     "text": [
      "Prawdopodobieństwo wylosowanie liczby parzystej, pod warunkiem, że wylosowaliśmy liczbę większą niż 4 wynosi : 0.5000\n"
     ]
    }
   ],
   "source": [
    "PA_cond_B = P_intersection_AB / P_B\n",
    "\n",
    "print(f'Prawdopodobieństwo wylosowanie liczby parzystej, pod warunkiem, że wylosowaliśmy liczbę większą niż 4 wynosi : {PA_cond_B:.4f}')"
   ]
  },
  {
   "cell_type": "code",
   "execution_count": null,
   "metadata": {},
   "outputs": [],
   "source": []
  }
 ],
 "metadata": {
  "kernelspec": {
   "display_name": "Python 3",
   "language": "python",
   "name": "python3"
  },
  "language_info": {
   "codemirror_mode": {
    "name": "ipython",
    "version": 3
   },
   "file_extension": ".py",
   "mimetype": "text/x-python",
   "name": "python",
   "nbconvert_exporter": "python",
   "pygments_lexer": "ipython3",
   "version": "3.7.6"
  }
 },
 "nbformat": 4,
 "nbformat_minor": 4
}
