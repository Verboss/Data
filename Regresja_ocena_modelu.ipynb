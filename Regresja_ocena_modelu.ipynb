{
 "cells": [
  {
   "cell_type": "code",
   "execution_count": 2,
   "metadata": {},
   "outputs": [],
   "source": [
    "import numpy as np\n",
    "import pandas as pd\n",
    "import plotly.express as px\n",
    "import plotly.graph_objects as go"
   ]
  },
  {
   "cell_type": "code",
   "execution_count": 3,
   "metadata": {},
   "outputs": [
    {
     "data": {
      "text/plain": [
       "array([ 55.76605803,  95.46681506, 110.79067762,  74.07195869,\n",
       "        97.9443877 , 110.76078491,  92.59718928, 123.77942304,\n",
       "        99.58714348, 118.51376201, 107.63369964, 102.59285485,\n",
       "        87.29761195,  96.8567572 ,  99.21703932,  98.73648789,\n",
       "        98.80216148, 101.69195103,  85.22277908,  95.08473806,\n",
       "        99.33600064, 117.40569611,  75.32608482,  78.45063123,\n",
       "        91.8269471 , 108.40403144,  99.58288702,  73.10428918,\n",
       "       115.55555601,  63.65722037,  80.86729842, 133.51234079,\n",
       "       116.32848323,  95.62598236,  34.93651513, 102.05854577,\n",
       "        83.57438446, 103.76516179, 105.7823314 , 131.87094338,\n",
       "       167.23485065, 117.82042524,  87.01218515, 115.24723338,\n",
       "       123.28006708, 100.44309502,  92.18357646, 132.27155515,\n",
       "       102.15391549,  99.03386328])"
      ]
     },
     "execution_count": 3,
     "metadata": {},
     "output_type": "execute_result"
    }
   ],
   "source": [
    "y_true = 100 +20 * np.random.randn(50)\n",
    "y_true"
   ]
  },
  {
   "cell_type": "code",
   "execution_count": 4,
   "metadata": {},
   "outputs": [
    {
     "data": {
      "text/plain": [
       "array([ 73.23823446,  95.11725816, 113.40055229,  58.35889674,\n",
       "       108.89842497, 107.06070942,  93.09037396, 139.70256982,\n",
       "        96.50118427, 131.68392252, 106.64498795, 106.33378659,\n",
       "       100.57554424,  87.51610215, 105.67895949,  88.48914354,\n",
       "        78.58096327, 104.93221584,  91.03349429, 102.69927631,\n",
       "        95.72070113, 116.14311993,  76.22854131,  58.41991434,\n",
       "        84.69978862, 112.87799385,  98.47291804,  72.64074967,\n",
       "       124.6355564 ,  56.69460798,  74.98088302, 136.38839817,\n",
       "       118.10738731,  89.77225479,  56.93938818, 114.25264269,\n",
       "        87.38240125, 109.30747684, 102.12856872, 126.22085945,\n",
       "       174.22999847, 127.44951776,  88.42027785, 106.49437956,\n",
       "       120.09700851, 107.6174054 ,  75.67565198, 123.68111452,\n",
       "       100.67050461, 108.21634841])"
      ]
     },
     "execution_count": 4,
     "metadata": {},
     "output_type": "execute_result"
    }
   ],
   "source": [
    "y_pred = y_true + 10 * np.random.randn(50)\n",
    "y_pred"
   ]
  },
  {
   "cell_type": "code",
   "execution_count": 5,
   "metadata": {},
   "outputs": [
    {
     "data": {
      "text/html": [
       "<div>\n",
       "<style scoped>\n",
       "    .dataframe tbody tr th:only-of-type {\n",
       "        vertical-align: middle;\n",
       "    }\n",
       "\n",
       "    .dataframe tbody tr th {\n",
       "        vertical-align: top;\n",
       "    }\n",
       "\n",
       "    .dataframe thead th {\n",
       "        text-align: right;\n",
       "    }\n",
       "</style>\n",
       "<table border=\"1\" class=\"dataframe\">\n",
       "  <thead>\n",
       "    <tr style=\"text-align: right;\">\n",
       "      <th></th>\n",
       "      <th>y_true</th>\n",
       "      <th>y_pred</th>\n",
       "    </tr>\n",
       "  </thead>\n",
       "  <tbody>\n",
       "    <tr>\n",
       "      <th>0</th>\n",
       "      <td>55.766058</td>\n",
       "      <td>73.238234</td>\n",
       "    </tr>\n",
       "    <tr>\n",
       "      <th>1</th>\n",
       "      <td>95.466815</td>\n",
       "      <td>95.117258</td>\n",
       "    </tr>\n",
       "    <tr>\n",
       "      <th>2</th>\n",
       "      <td>110.790678</td>\n",
       "      <td>113.400552</td>\n",
       "    </tr>\n",
       "    <tr>\n",
       "      <th>3</th>\n",
       "      <td>74.071959</td>\n",
       "      <td>58.358897</td>\n",
       "    </tr>\n",
       "    <tr>\n",
       "      <th>4</th>\n",
       "      <td>97.944388</td>\n",
       "      <td>108.898425</td>\n",
       "    </tr>\n",
       "  </tbody>\n",
       "</table>\n",
       "</div>"
      ],
      "text/plain": [
       "       y_true      y_pred\n",
       "0   55.766058   73.238234\n",
       "1   95.466815   95.117258\n",
       "2  110.790678  113.400552\n",
       "3   74.071959   58.358897\n",
       "4   97.944388  108.898425"
      ]
     },
     "execution_count": 5,
     "metadata": {},
     "output_type": "execute_result"
    }
   ],
   "source": [
    "results = pd.DataFrame({'y_true': y_true, 'y_pred': y_pred})\n",
    "results.head()"
   ]
  },
  {
   "cell_type": "code",
   "execution_count": 6,
   "metadata": {},
   "outputs": [
    {
     "data": {
      "text/html": [
       "<div>\n",
       "<style scoped>\n",
       "    .dataframe tbody tr th:only-of-type {\n",
       "        vertical-align: middle;\n",
       "    }\n",
       "\n",
       "    .dataframe tbody tr th {\n",
       "        vertical-align: top;\n",
       "    }\n",
       "\n",
       "    .dataframe thead th {\n",
       "        text-align: right;\n",
       "    }\n",
       "</style>\n",
       "<table border=\"1\" class=\"dataframe\">\n",
       "  <thead>\n",
       "    <tr style=\"text-align: right;\">\n",
       "      <th></th>\n",
       "      <th>y_true</th>\n",
       "      <th>y_pred</th>\n",
       "      <th>error</th>\n",
       "    </tr>\n",
       "  </thead>\n",
       "  <tbody>\n",
       "    <tr>\n",
       "      <th>0</th>\n",
       "      <td>55.766058</td>\n",
       "      <td>73.238234</td>\n",
       "      <td>-17.472176</td>\n",
       "    </tr>\n",
       "    <tr>\n",
       "      <th>1</th>\n",
       "      <td>95.466815</td>\n",
       "      <td>95.117258</td>\n",
       "      <td>0.349557</td>\n",
       "    </tr>\n",
       "    <tr>\n",
       "      <th>2</th>\n",
       "      <td>110.790678</td>\n",
       "      <td>113.400552</td>\n",
       "      <td>-2.609875</td>\n",
       "    </tr>\n",
       "    <tr>\n",
       "      <th>3</th>\n",
       "      <td>74.071959</td>\n",
       "      <td>58.358897</td>\n",
       "      <td>15.713062</td>\n",
       "    </tr>\n",
       "    <tr>\n",
       "      <th>4</th>\n",
       "      <td>97.944388</td>\n",
       "      <td>108.898425</td>\n",
       "      <td>-10.954037</td>\n",
       "    </tr>\n",
       "  </tbody>\n",
       "</table>\n",
       "</div>"
      ],
      "text/plain": [
       "       y_true      y_pred      error\n",
       "0   55.766058   73.238234 -17.472176\n",
       "1   95.466815   95.117258   0.349557\n",
       "2  110.790678  113.400552  -2.609875\n",
       "3   74.071959   58.358897  15.713062\n",
       "4   97.944388  108.898425 -10.954037"
      ]
     },
     "execution_count": 6,
     "metadata": {},
     "output_type": "execute_result"
    }
   ],
   "source": [
    "results['error'] = results['y_true'] - results['y_pred']\n",
    "results.head()"
   ]
  },
  {
   "cell_type": "code",
   "execution_count": 10,
   "metadata": {},
   "outputs": [
    {
     "data": {
      "application/vnd.plotly.v1+json": {
       "config": {
        "plotlyServerURL": "https://plot.ly"
       },
       "data": [
        {
         "mode": "markers",
         "type": "scatter",
         "x": [
          55.76605802688205,
          95.46681506113389,
          110.79067762327279,
          74.07195868811186,
          97.9443876991933,
          110.76078490747703,
          92.59718928422282,
          123.77942303628413,
          99.58714347869666,
          118.51376201366365,
          107.6336996423283,
          102.59285484702319,
          87.2976119487771,
          96.85675720049974,
          99.2170393224037,
          98.73648789136368,
          98.80216148245269,
          101.69195102778205,
          85.2227790754439,
          95.0847380555611,
          99.33600064026864,
          117.40569611369534,
          75.32608481828946,
          78.45063122502478,
          91.8269471033352,
          108.40403144382678,
          99.58288702333363,
          73.10428917971294,
          115.5555560107778,
          63.657220366763575,
          80.86729842037704,
          133.51234078729675,
          116.32848322884996,
          95.62598236364987,
          34.93651512911846,
          102.0585457685564,
          83.5743844553164,
          103.76516178793653,
          105.78233139614454,
          131.870943380729,
          167.23485065281216,
          117.82042523637324,
          87.01218515345099,
          115.247233384715,
          123.2800670779549,
          100.44309501805212,
          92.18357646029528,
          132.27155514942962,
          102.15391549274696,
          99.03386327750599
         ],
         "y": [
          73.23823445861139,
          95.11725816220317,
          113.40055229297514,
          58.35889673750964,
          108.89842496739841,
          107.06070941854225,
          93.09037396445522,
          139.70256982435527,
          96.50118426922285,
          131.68392252425127,
          106.64498794652607,
          106.3337865854574,
          100.57554424093706,
          87.51610214799675,
          105.67895948513622,
          88.48914354186978,
          78.58096327333685,
          104.93221583989268,
          91.03349429477575,
          102.69927631411498,
          95.72070112581837,
          116.14311992833434,
          76.22854130581904,
          58.41991434210603,
          84.69978861727013,
          112.8779938481404,
          98.47291803640383,
          72.64074967348398,
          124.63555639552973,
          56.69460797791266,
          74.98088302222338,
          136.3883981727765,
          118.107387313934,
          89.77225479458295,
          56.939388175573825,
          114.25264268760954,
          87.38240125068981,
          109.30747683506124,
          102.12856871853513,
          126.22085944678953,
          174.2299984654459,
          127.44951775795842,
          88.42027785461683,
          106.49437955826924,
          120.0970085059797,
          107.61740540485255,
          75.67565198451058,
          123.68111452358274,
          100.67050460753428,
          108.21634841463799
         ]
        },
        {
         "type": "scatter",
         "x": [
          34.93651512911846,
          174.2299984654459
         ],
         "y": [
          34.93651512911846,
          174.2299984654459
         ]
        }
       ],
       "layout": {
        "autosize": true,
        "showlegend": false,
        "template": {
         "data": {
          "bar": [
           {
            "error_x": {
             "color": "#2a3f5f"
            },
            "error_y": {
             "color": "#2a3f5f"
            },
            "marker": {
             "line": {
              "color": "#E5ECF6",
              "width": 0.5
             }
            },
            "type": "bar"
           }
          ],
          "barpolar": [
           {
            "marker": {
             "line": {
              "color": "#E5ECF6",
              "width": 0.5
             }
            },
            "type": "barpolar"
           }
          ],
          "carpet": [
           {
            "aaxis": {
             "endlinecolor": "#2a3f5f",
             "gridcolor": "white",
             "linecolor": "white",
             "minorgridcolor": "white",
             "startlinecolor": "#2a3f5f"
            },
            "baxis": {
             "endlinecolor": "#2a3f5f",
             "gridcolor": "white",
             "linecolor": "white",
             "minorgridcolor": "white",
             "startlinecolor": "#2a3f5f"
            },
            "type": "carpet"
           }
          ],
          "choropleth": [
           {
            "colorbar": {
             "outlinewidth": 0,
             "ticks": ""
            },
            "type": "choropleth"
           }
          ],
          "contour": [
           {
            "colorbar": {
             "outlinewidth": 0,
             "ticks": ""
            },
            "colorscale": [
             [
              0,
              "#0d0887"
             ],
             [
              0.1111111111111111,
              "#46039f"
             ],
             [
              0.2222222222222222,
              "#7201a8"
             ],
             [
              0.3333333333333333,
              "#9c179e"
             ],
             [
              0.4444444444444444,
              "#bd3786"
             ],
             [
              0.5555555555555556,
              "#d8576b"
             ],
             [
              0.6666666666666666,
              "#ed7953"
             ],
             [
              0.7777777777777778,
              "#fb9f3a"
             ],
             [
              0.8888888888888888,
              "#fdca26"
             ],
             [
              1,
              "#f0f921"
             ]
            ],
            "type": "contour"
           }
          ],
          "contourcarpet": [
           {
            "colorbar": {
             "outlinewidth": 0,
             "ticks": ""
            },
            "type": "contourcarpet"
           }
          ],
          "heatmap": [
           {
            "colorbar": {
             "outlinewidth": 0,
             "ticks": ""
            },
            "colorscale": [
             [
              0,
              "#0d0887"
             ],
             [
              0.1111111111111111,
              "#46039f"
             ],
             [
              0.2222222222222222,
              "#7201a8"
             ],
             [
              0.3333333333333333,
              "#9c179e"
             ],
             [
              0.4444444444444444,
              "#bd3786"
             ],
             [
              0.5555555555555556,
              "#d8576b"
             ],
             [
              0.6666666666666666,
              "#ed7953"
             ],
             [
              0.7777777777777778,
              "#fb9f3a"
             ],
             [
              0.8888888888888888,
              "#fdca26"
             ],
             [
              1,
              "#f0f921"
             ]
            ],
            "type": "heatmap"
           }
          ],
          "heatmapgl": [
           {
            "colorbar": {
             "outlinewidth": 0,
             "ticks": ""
            },
            "colorscale": [
             [
              0,
              "#0d0887"
             ],
             [
              0.1111111111111111,
              "#46039f"
             ],
             [
              0.2222222222222222,
              "#7201a8"
             ],
             [
              0.3333333333333333,
              "#9c179e"
             ],
             [
              0.4444444444444444,
              "#bd3786"
             ],
             [
              0.5555555555555556,
              "#d8576b"
             ],
             [
              0.6666666666666666,
              "#ed7953"
             ],
             [
              0.7777777777777778,
              "#fb9f3a"
             ],
             [
              0.8888888888888888,
              "#fdca26"
             ],
             [
              1,
              "#f0f921"
             ]
            ],
            "type": "heatmapgl"
           }
          ],
          "histogram": [
           {
            "marker": {
             "colorbar": {
              "outlinewidth": 0,
              "ticks": ""
             }
            },
            "type": "histogram"
           }
          ],
          "histogram2d": [
           {
            "colorbar": {
             "outlinewidth": 0,
             "ticks": ""
            },
            "colorscale": [
             [
              0,
              "#0d0887"
             ],
             [
              0.1111111111111111,
              "#46039f"
             ],
             [
              0.2222222222222222,
              "#7201a8"
             ],
             [
              0.3333333333333333,
              "#9c179e"
             ],
             [
              0.4444444444444444,
              "#bd3786"
             ],
             [
              0.5555555555555556,
              "#d8576b"
             ],
             [
              0.6666666666666666,
              "#ed7953"
             ],
             [
              0.7777777777777778,
              "#fb9f3a"
             ],
             [
              0.8888888888888888,
              "#fdca26"
             ],
             [
              1,
              "#f0f921"
             ]
            ],
            "type": "histogram2d"
           }
          ],
          "histogram2dcontour": [
           {
            "colorbar": {
             "outlinewidth": 0,
             "ticks": ""
            },
            "colorscale": [
             [
              0,
              "#0d0887"
             ],
             [
              0.1111111111111111,
              "#46039f"
             ],
             [
              0.2222222222222222,
              "#7201a8"
             ],
             [
              0.3333333333333333,
              "#9c179e"
             ],
             [
              0.4444444444444444,
              "#bd3786"
             ],
             [
              0.5555555555555556,
              "#d8576b"
             ],
             [
              0.6666666666666666,
              "#ed7953"
             ],
             [
              0.7777777777777778,
              "#fb9f3a"
             ],
             [
              0.8888888888888888,
              "#fdca26"
             ],
             [
              1,
              "#f0f921"
             ]
            ],
            "type": "histogram2dcontour"
           }
          ],
          "mesh3d": [
           {
            "colorbar": {
             "outlinewidth": 0,
             "ticks": ""
            },
            "type": "mesh3d"
           }
          ],
          "parcoords": [
           {
            "line": {
             "colorbar": {
              "outlinewidth": 0,
              "ticks": ""
             }
            },
            "type": "parcoords"
           }
          ],
          "pie": [
           {
            "automargin": true,
            "type": "pie"
           }
          ],
          "scatter": [
           {
            "marker": {
             "colorbar": {
              "outlinewidth": 0,
              "ticks": ""
             }
            },
            "type": "scatter"
           }
          ],
          "scatter3d": [
           {
            "line": {
             "colorbar": {
              "outlinewidth": 0,
              "ticks": ""
             }
            },
            "marker": {
             "colorbar": {
              "outlinewidth": 0,
              "ticks": ""
             }
            },
            "type": "scatter3d"
           }
          ],
          "scattercarpet": [
           {
            "marker": {
             "colorbar": {
              "outlinewidth": 0,
              "ticks": ""
             }
            },
            "type": "scattercarpet"
           }
          ],
          "scattergeo": [
           {
            "marker": {
             "colorbar": {
              "outlinewidth": 0,
              "ticks": ""
             }
            },
            "type": "scattergeo"
           }
          ],
          "scattergl": [
           {
            "marker": {
             "colorbar": {
              "outlinewidth": 0,
              "ticks": ""
             }
            },
            "type": "scattergl"
           }
          ],
          "scattermapbox": [
           {
            "marker": {
             "colorbar": {
              "outlinewidth": 0,
              "ticks": ""
             }
            },
            "type": "scattermapbox"
           }
          ],
          "scatterpolar": [
           {
            "marker": {
             "colorbar": {
              "outlinewidth": 0,
              "ticks": ""
             }
            },
            "type": "scatterpolar"
           }
          ],
          "scatterpolargl": [
           {
            "marker": {
             "colorbar": {
              "outlinewidth": 0,
              "ticks": ""
             }
            },
            "type": "scatterpolargl"
           }
          ],
          "scatterternary": [
           {
            "marker": {
             "colorbar": {
              "outlinewidth": 0,
              "ticks": ""
             }
            },
            "type": "scatterternary"
           }
          ],
          "surface": [
           {
            "colorbar": {
             "outlinewidth": 0,
             "ticks": ""
            },
            "colorscale": [
             [
              0,
              "#0d0887"
             ],
             [
              0.1111111111111111,
              "#46039f"
             ],
             [
              0.2222222222222222,
              "#7201a8"
             ],
             [
              0.3333333333333333,
              "#9c179e"
             ],
             [
              0.4444444444444444,
              "#bd3786"
             ],
             [
              0.5555555555555556,
              "#d8576b"
             ],
             [
              0.6666666666666666,
              "#ed7953"
             ],
             [
              0.7777777777777778,
              "#fb9f3a"
             ],
             [
              0.8888888888888888,
              "#fdca26"
             ],
             [
              1,
              "#f0f921"
             ]
            ],
            "type": "surface"
           }
          ],
          "table": [
           {
            "cells": {
             "fill": {
              "color": "#EBF0F8"
             },
             "line": {
              "color": "white"
             }
            },
            "header": {
             "fill": {
              "color": "#C8D4E3"
             },
             "line": {
              "color": "white"
             }
            },
            "type": "table"
           }
          ]
         },
         "layout": {
          "annotationdefaults": {
           "arrowcolor": "#2a3f5f",
           "arrowhead": 0,
           "arrowwidth": 1
          },
          "coloraxis": {
           "colorbar": {
            "outlinewidth": 0,
            "ticks": ""
           }
          },
          "colorscale": {
           "diverging": [
            [
             0,
             "#8e0152"
            ],
            [
             0.1,
             "#c51b7d"
            ],
            [
             0.2,
             "#de77ae"
            ],
            [
             0.3,
             "#f1b6da"
            ],
            [
             0.4,
             "#fde0ef"
            ],
            [
             0.5,
             "#f7f7f7"
            ],
            [
             0.6,
             "#e6f5d0"
            ],
            [
             0.7,
             "#b8e186"
            ],
            [
             0.8,
             "#7fbc41"
            ],
            [
             0.9,
             "#4d9221"
            ],
            [
             1,
             "#276419"
            ]
           ],
           "sequential": [
            [
             0,
             "#0d0887"
            ],
            [
             0.1111111111111111,
             "#46039f"
            ],
            [
             0.2222222222222222,
             "#7201a8"
            ],
            [
             0.3333333333333333,
             "#9c179e"
            ],
            [
             0.4444444444444444,
             "#bd3786"
            ],
            [
             0.5555555555555556,
             "#d8576b"
            ],
            [
             0.6666666666666666,
             "#ed7953"
            ],
            [
             0.7777777777777778,
             "#fb9f3a"
            ],
            [
             0.8888888888888888,
             "#fdca26"
            ],
            [
             1,
             "#f0f921"
            ]
           ],
           "sequentialminus": [
            [
             0,
             "#0d0887"
            ],
            [
             0.1111111111111111,
             "#46039f"
            ],
            [
             0.2222222222222222,
             "#7201a8"
            ],
            [
             0.3333333333333333,
             "#9c179e"
            ],
            [
             0.4444444444444444,
             "#bd3786"
            ],
            [
             0.5555555555555556,
             "#d8576b"
            ],
            [
             0.6666666666666666,
             "#ed7953"
            ],
            [
             0.7777777777777778,
             "#fb9f3a"
            ],
            [
             0.8888888888888888,
             "#fdca26"
            ],
            [
             1,
             "#f0f921"
            ]
           ]
          },
          "colorway": [
           "#636efa",
           "#EF553B",
           "#00cc96",
           "#ab63fa",
           "#FFA15A",
           "#19d3f3",
           "#FF6692",
           "#B6E880",
           "#FF97FF",
           "#FECB52"
          ],
          "font": {
           "color": "#2a3f5f"
          },
          "geo": {
           "bgcolor": "white",
           "lakecolor": "white",
           "landcolor": "#E5ECF6",
           "showlakes": true,
           "showland": true,
           "subunitcolor": "white"
          },
          "hoverlabel": {
           "align": "left"
          },
          "hovermode": "closest",
          "mapbox": {
           "style": "light"
          },
          "paper_bgcolor": "white",
          "plot_bgcolor": "#E5ECF6",
          "polar": {
           "angularaxis": {
            "gridcolor": "white",
            "linecolor": "white",
            "ticks": ""
           },
           "bgcolor": "#E5ECF6",
           "radialaxis": {
            "gridcolor": "white",
            "linecolor": "white",
            "ticks": ""
           }
          },
          "scene": {
           "xaxis": {
            "backgroundcolor": "#E5ECF6",
            "gridcolor": "white",
            "gridwidth": 2,
            "linecolor": "white",
            "showbackground": true,
            "ticks": "",
            "zerolinecolor": "white"
           },
           "yaxis": {
            "backgroundcolor": "#E5ECF6",
            "gridcolor": "white",
            "gridwidth": 2,
            "linecolor": "white",
            "showbackground": true,
            "ticks": "",
            "zerolinecolor": "white"
           },
           "zaxis": {
            "backgroundcolor": "#E5ECF6",
            "gridcolor": "white",
            "gridwidth": 2,
            "linecolor": "white",
            "showbackground": true,
            "ticks": "",
            "zerolinecolor": "white"
           }
          },
          "shapedefaults": {
           "line": {
            "color": "#2a3f5f"
           }
          },
          "ternary": {
           "aaxis": {
            "gridcolor": "white",
            "linecolor": "white",
            "ticks": ""
           },
           "baxis": {
            "gridcolor": "white",
            "linecolor": "white",
            "ticks": ""
           },
           "bgcolor": "#E5ECF6",
           "caxis": {
            "gridcolor": "white",
            "linecolor": "white",
            "ticks": ""
           }
          },
          "title": {
           "x": 0.05
          },
          "xaxis": {
           "automargin": true,
           "gridcolor": "white",
           "linecolor": "white",
           "ticks": "",
           "title": {
            "standoff": 15
           },
           "zerolinecolor": "white",
           "zerolinewidth": 2
          },
          "yaxis": {
           "automargin": true,
           "gridcolor": "white",
           "linecolor": "white",
           "ticks": "",
           "title": {
            "standoff": 15
           },
           "zerolinecolor": "white",
           "zerolinewidth": 2
          }
         }
        },
        "title": {
         "text": "Regression results"
        },
        "xaxis": {
         "autorange": true,
         "range": [
          26.56430609137982,
          182.60220750318456
         ],
         "title": {
          "text": "y_true"
         },
         "type": "linear"
        },
        "yaxis": {
         "autorange": true,
         "range": [
          24.73348927964225,
          184.4330243149221
         ],
         "title": {
          "text": "y_pred"
         },
         "type": "linear"
        }
       }
      },
      "image/png": "[encoded data removed]",
      "text/html": [
       "<div>                            <div id=\"d6e13665-cf32-4479-a534-8714ca93686f\" class=\"plotly-graph-div\" style=\"height:525px; width:100%;\"></div>            <script type=\"text/javascript\">                require([\"plotly\"], function(Plotly) {                    window.PLOTLYENV=window.PLOTLYENV || {};                                    if (document.getElementById(\"d6e13665-cf32-4479-a534-8714ca93686f\")) {                    Plotly.newPlot(                        \"d6e13665-cf32-4479-a534-8714ca93686f\",                        [{\"mode\": \"markers\", \"type\": \"scatter\", \"x\": [55.76605802688205, 95.46681506113389, 110.79067762327279, 74.07195868811186, 97.9443876991933, 110.76078490747703, 92.59718928422282, 123.77942303628413, 99.58714347869666, 118.51376201366365, 107.6336996423283, 102.59285484702319, 87.2976119487771, 96.85675720049974, 99.2170393224037, 98.73648789136368, 98.80216148245269, 101.69195102778205, 85.2227790754439, 95.0847380555611, 99.33600064026864, 117.40569611369534, 75.32608481828946, 78.45063122502478, 91.8269471033352, 108.40403144382678, 99.58288702333363, 73.10428917971294, 115.5555560107778, 63.657220366763575, 80.86729842037704, 133.51234078729675, 116.32848322884996, 95.62598236364987, 34.93651512911846, 102.0585457685564, 83.5743844553164, 103.76516178793653, 105.78233139614454, 131.870943380729, 167.23485065281216, 117.82042523637324, 87.01218515345099, 115.247233384715, 123.2800670779549, 100.44309501805212, 92.18357646029528, 132.27155514942962, 102.15391549274696, 99.03386327750599], \"y\": [73.23823445861139, 95.11725816220317, 113.40055229297514, 58.35889673750964, 108.89842496739841, 107.06070941854225, 93.09037396445522, 139.70256982435527, 96.50118426922285, 131.68392252425127, 106.64498794652607, 106.3337865854574, 100.57554424093706, 87.51610214799675, 105.67895948513622, 88.48914354186978, 78.58096327333685, 104.93221583989268, 91.03349429477575, 102.69927631411498, 95.72070112581837, 116.14311992833434, 76.22854130581904, 58.41991434210603, 84.69978861727013, 112.8779938481404, 98.47291803640383, 72.64074967348398, 124.63555639552973, 56.69460797791266, 74.98088302222338, 136.3883981727765, 118.107387313934, 89.77225479458295, 56.939388175573825, 114.25264268760954, 87.38240125068981, 109.30747683506124, 102.12856871853513, 126.22085944678953, 174.2299984654459, 127.44951775795842, 88.42027785461683, 106.49437955826924, 120.0970085059797, 107.61740540485255, 75.67565198451058, 123.68111452358274, 100.67050460753428, 108.21634841463799]}, {\"type\": \"scatter\", \"x\": [34.93651512911846, 174.2299984654459], \"y\": [34.93651512911846, 174.2299984654459]}],                        {\"showlegend\": false, \"template\": {\"data\": {\"bar\": [{\"error_x\": {\"color\": \"#2a3f5f\"}, \"error_y\": {\"color\": \"#2a3f5f\"}, \"marker\": {\"line\": {\"color\": \"#E5ECF6\", \"width\": 0.5}}, \"type\": \"bar\"}], \"barpolar\": [{\"marker\": {\"line\": {\"color\": \"#E5ECF6\", \"width\": 0.5}}, \"type\": \"barpolar\"}], \"carpet\": [{\"aaxis\": {\"endlinecolor\": \"#2a3f5f\", \"gridcolor\": \"white\", \"linecolor\": \"white\", \"minorgridcolor\": \"white\", \"startlinecolor\": \"#2a3f5f\"}, \"baxis\": {\"endlinecolor\": \"#2a3f5f\", \"gridcolor\": \"white\", \"linecolor\": \"white\", \"minorgridcolor\": \"white\", \"startlinecolor\": \"#2a3f5f\"}, \"type\": \"carpet\"}], \"choropleth\": [{\"colorbar\": {\"outlinewidth\": 0, \"ticks\": \"\"}, \"type\": \"choropleth\"}], \"contour\": [{\"colorbar\": {\"outlinewidth\": 0, \"ticks\": \"\"}, \"colorscale\": [[0.0, \"#0d0887\"], [0.1111111111111111, \"#46039f\"], [0.2222222222222222, \"#7201a8\"], [0.3333333333333333, \"#9c179e\"], [0.4444444444444444, \"#bd3786\"], [0.5555555555555556, \"#d8576b\"], [0.6666666666666666, \"#ed7953\"], [0.7777777777777778, \"#fb9f3a\"], [0.8888888888888888, \"#fdca26\"], [1.0, \"#f0f921\"]], \"type\": \"contour\"}], \"contourcarpet\": [{\"colorbar\": {\"outlinewidth\": 0, \"ticks\": \"\"}, \"type\": \"contourcarpet\"}], \"heatmap\": [{\"colorbar\": {\"outlinewidth\": 0, \"ticks\": \"\"}, \"colorscale\": [[0.0, \"#0d0887\"], [0.1111111111111111, \"#46039f\"], [0.2222222222222222, \"#7201a8\"], [0.3333333333333333, \"#9c179e\"], [0.4444444444444444, \"#bd3786\"], [0.5555555555555556, \"#d8576b\"], [0.6666666666666666, \"#ed7953\"], [0.7777777777777778, \"#fb9f3a\"], [0.8888888888888888, \"#fdca26\"], [1.0, \"#f0f921\"]], \"type\": \"heatmap\"}], \"heatmapgl\": [{\"colorbar\": {\"outlinewidth\": 0, \"ticks\": \"\"}, \"colorscale\": [[0.0, \"#0d0887\"], [0.1111111111111111, \"#46039f\"], [0.2222222222222222, \"#7201a8\"], [0.3333333333333333, \"#9c179e\"], [0.4444444444444444, \"#bd3786\"], [0.5555555555555556, \"#d8576b\"], [0.6666666666666666, \"#ed7953\"], [0.7777777777777778, \"#fb9f3a\"], [0.8888888888888888, \"#fdca26\"], [1.0, \"#f0f921\"]], \"type\": \"heatmapgl\"}], \"histogram\": [{\"marker\": {\"colorbar\": {\"outlinewidth\": 0, \"ticks\": \"\"}}, \"type\": \"histogram\"}], \"histogram2d\": [{\"colorbar\": {\"outlinewidth\": 0, \"ticks\": \"\"}, \"colorscale\": [[0.0, \"#0d0887\"], [0.1111111111111111, \"#46039f\"], [0.2222222222222222, \"#7201a8\"], [0.3333333333333333, \"#9c179e\"], [0.4444444444444444, \"#bd3786\"], [0.5555555555555556, \"#d8576b\"], [0.6666666666666666, \"#ed7953\"], [0.7777777777777778, \"#fb9f3a\"], [0.8888888888888888, \"#fdca26\"], [1.0, \"#f0f921\"]], \"type\": \"histogram2d\"}], \"histogram2dcontour\": [{\"colorbar\": {\"outlinewidth\": 0, \"ticks\": \"\"}, \"colorscale\": [[0.0, \"#0d0887\"], [0.1111111111111111, \"#46039f\"], [0.2222222222222222, \"#7201a8\"], [0.3333333333333333, \"#9c179e\"], [0.4444444444444444, \"#bd3786\"], [0.5555555555555556, \"#d8576b\"], [0.6666666666666666, \"#ed7953\"], [0.7777777777777778, \"#fb9f3a\"], [0.8888888888888888, \"#fdca26\"], [1.0, \"#f0f921\"]], \"type\": \"histogram2dcontour\"}], \"mesh3d\": [{\"colorbar\": {\"outlinewidth\": 0, \"ticks\": \"\"}, \"type\": \"mesh3d\"}], \"parcoords\": [{\"line\": {\"colorbar\": {\"outlinewidth\": 0, \"ticks\": \"\"}}, \"type\": \"parcoords\"}], \"pie\": [{\"automargin\": true, \"type\": \"pie\"}], \"scatter\": [{\"marker\": {\"colorbar\": {\"outlinewidth\": 0, \"ticks\": \"\"}}, \"type\": \"scatter\"}], \"scatter3d\": [{\"line\": {\"colorbar\": {\"outlinewidth\": 0, \"ticks\": \"\"}}, \"marker\": {\"colorbar\": {\"outlinewidth\": 0, \"ticks\": \"\"}}, \"type\": \"scatter3d\"}], \"scattercarpet\": [{\"marker\": {\"colorbar\": {\"outlinewidth\": 0, \"ticks\": \"\"}}, \"type\": \"scattercarpet\"}], \"scattergeo\": [{\"marker\": {\"colorbar\": {\"outlinewidth\": 0, \"ticks\": \"\"}}, \"type\": \"scattergeo\"}], \"scattergl\": [{\"marker\": {\"colorbar\": {\"outlinewidth\": 0, \"ticks\": \"\"}}, \"type\": \"scattergl\"}], \"scattermapbox\": [{\"marker\": {\"colorbar\": {\"outlinewidth\": 0, \"ticks\": \"\"}}, \"type\": \"scattermapbox\"}], \"scatterpolar\": [{\"marker\": {\"colorbar\": {\"outlinewidth\": 0, \"ticks\": \"\"}}, \"type\": \"scatterpolar\"}], \"scatterpolargl\": [{\"marker\": {\"colorbar\": {\"outlinewidth\": 0, \"ticks\": \"\"}}, \"type\": \"scatterpolargl\"}], \"scatterternary\": [{\"marker\": {\"colorbar\": {\"outlinewidth\": 0, \"ticks\": \"\"}}, \"type\": \"scatterternary\"}], \"surface\": [{\"colorbar\": {\"outlinewidth\": 0, \"ticks\": \"\"}, \"colorscale\": [[0.0, \"#0d0887\"], [0.1111111111111111, \"#46039f\"], [0.2222222222222222, \"#7201a8\"], [0.3333333333333333, \"#9c179e\"], [0.4444444444444444, \"#bd3786\"], [0.5555555555555556, \"#d8576b\"], [0.6666666666666666, \"#ed7953\"], [0.7777777777777778, \"#fb9f3a\"], [0.8888888888888888, \"#fdca26\"], [1.0, \"#f0f921\"]], \"type\": \"surface\"}], \"table\": [{\"cells\": {\"fill\": {\"color\": \"#EBF0F8\"}, \"line\": {\"color\": \"white\"}}, \"header\": {\"fill\": {\"color\": \"#C8D4E3\"}, \"line\": {\"color\": \"white\"}}, \"type\": \"table\"}]}, \"layout\": {\"annotationdefaults\": {\"arrowcolor\": \"#2a3f5f\", \"arrowhead\": 0, \"arrowwidth\": 1}, \"coloraxis\": {\"colorbar\": {\"outlinewidth\": 0, \"ticks\": \"\"}}, \"colorscale\": {\"diverging\": [[0, \"#8e0152\"], [0.1, \"#c51b7d\"], [0.2, \"#de77ae\"], [0.3, \"#f1b6da\"], [0.4, \"#fde0ef\"], [0.5, \"#f7f7f7\"], [0.6, \"#e6f5d0\"], [0.7, \"#b8e186\"], [0.8, \"#7fbc41\"], [0.9, \"#4d9221\"], [1, \"#276419\"]], \"sequential\": [[0.0, \"#0d0887\"], [0.1111111111111111, \"#46039f\"], [0.2222222222222222, \"#7201a8\"], [0.3333333333333333, \"#9c179e\"], [0.4444444444444444, \"#bd3786\"], [0.5555555555555556, \"#d8576b\"], [0.6666666666666666, \"#ed7953\"], [0.7777777777777778, \"#fb9f3a\"], [0.8888888888888888, \"#fdca26\"], [1.0, \"#f0f921\"]], \"sequentialminus\": [[0.0, \"#0d0887\"], [0.1111111111111111, \"#46039f\"], [0.2222222222222222, \"#7201a8\"], [0.3333333333333333, \"#9c179e\"], [0.4444444444444444, \"#bd3786\"], [0.5555555555555556, \"#d8576b\"], [0.6666666666666666, \"#ed7953\"], [0.7777777777777778, \"#fb9f3a\"], [0.8888888888888888, \"#fdca26\"], [1.0, \"#f0f921\"]]}, \"colorway\": [\"#636efa\", \"#EF553B\", \"#00cc96\", \"#ab63fa\", \"#FFA15A\", \"#19d3f3\", \"#FF6692\", \"#B6E880\", \"#FF97FF\", \"#FECB52\"], \"font\": {\"color\": \"#2a3f5f\"}, \"geo\": {\"bgcolor\": \"white\", \"lakecolor\": \"white\", \"landcolor\": \"#E5ECF6\", \"showlakes\": true, \"showland\": true, \"subunitcolor\": \"white\"}, \"hoverlabel\": {\"align\": \"left\"}, \"hovermode\": \"closest\", \"mapbox\": {\"style\": \"light\"}, \"paper_bgcolor\": \"white\", \"plot_bgcolor\": \"#E5ECF6\", \"polar\": {\"angularaxis\": {\"gridcolor\": \"white\", \"linecolor\": \"white\", \"ticks\": \"\"}, \"bgcolor\": \"#E5ECF6\", \"radialaxis\": {\"gridcolor\": \"white\", \"linecolor\": \"white\", \"ticks\": \"\"}}, \"scene\": {\"xaxis\": {\"backgroundcolor\": \"#E5ECF6\", \"gridcolor\": \"white\", \"gridwidth\": 2, \"linecolor\": \"white\", \"showbackground\": true, \"ticks\": \"\", \"zerolinecolor\": \"white\"}, \"yaxis\": {\"backgroundcolor\": \"#E5ECF6\", \"gridcolor\": \"white\", \"gridwidth\": 2, \"linecolor\": \"white\", \"showbackground\": true, \"ticks\": \"\", \"zerolinecolor\": \"white\"}, \"zaxis\": {\"backgroundcolor\": \"#E5ECF6\", \"gridcolor\": \"white\", \"gridwidth\": 2, \"linecolor\": \"white\", \"showbackground\": true, \"ticks\": \"\", \"zerolinecolor\": \"white\"}}, \"shapedefaults\": {\"line\": {\"color\": \"#2a3f5f\"}}, \"ternary\": {\"aaxis\": {\"gridcolor\": \"white\", \"linecolor\": \"white\", \"ticks\": \"\"}, \"baxis\": {\"gridcolor\": \"white\", \"linecolor\": \"white\", \"ticks\": \"\"}, \"bgcolor\": \"#E5ECF6\", \"caxis\": {\"gridcolor\": \"white\", \"linecolor\": \"white\", \"ticks\": \"\"}}, \"title\": {\"x\": 0.05}, \"xaxis\": {\"automargin\": true, \"gridcolor\": \"white\", \"linecolor\": \"white\", \"ticks\": \"\", \"title\": {\"standoff\": 15}, \"zerolinecolor\": \"white\", \"zerolinewidth\": 2}, \"yaxis\": {\"automargin\": true, \"gridcolor\": \"white\", \"linecolor\": \"white\", \"ticks\": \"\", \"title\": {\"standoff\": 15}, \"zerolinecolor\": \"white\", \"zerolinewidth\": 2}}}, \"title\": {\"text\": \"Regression results\"}, \"xaxis\": {\"title\": {\"text\": \"y_true\"}}, \"yaxis\": {\"title\": {\"text\": \"y_pred\"}}},                        {\"responsive\": true}                    ).then(function(){\n",
       "                            \n",
       "var gd = document.getElementById('d6e13665-cf32-4479-a534-8714ca93686f');\n",
       "var x = new MutationObserver(function (mutations, observer) {{\n",
       "        var display = window.getComputedStyle(gd).display;\n",
       "        if (!display || display === 'none') {{\n",
       "            console.log([gd, 'removed!']);\n",
       "            Plotly.purge(gd);\n",
       "            observer.disconnect();\n",
       "        }}\n",
       "}});\n",
       "\n",
       "// Listen for the removal of the full notebook cells\n",
       "var notebookContainer = gd.closest('#notebook-container');\n",
       "if (notebookContainer) {{\n",
       "    x.observe(notebookContainer, {childList: true});\n",
       "}}\n",
       "\n",
       "// Listen for the clearing of the current output cell\n",
       "var outputEl = gd.closest('.output');\n",
       "if (outputEl) {{\n",
       "    x.observe(outputEl, {childList: true});\n",
       "}}\n",
       "\n",
       "                        })                };                });            </script>        </div>"
      ]
     },
     "metadata": {},
     "output_type": "display_data"
    }
   ],
   "source": [
    "def plot_regression_results(y_true, y_pred):\n",
    "    results = pd.DataFrame({'y_true': y_true, 'y_pred': y_pred})\n",
    "    min = results[['y_true', 'y_pred']].min().min()\n",
    "    max = results[['y_true', 'y_pred']].max().max()\n",
    "    \n",
    "    fig = go.Figure(data=[go.Scatter(x=results['y_true'], y=results['y_pred'], mode='markers'),\n",
    "                         go.Scatter(x=[min, max], y=[min, max])],\n",
    "                   layout=go.Layout(showlegend=False,\n",
    "                                   xaxis_title='y_true',\n",
    "                                   yaxis_title='y_pred',\n",
    "                                   title='Regression results'))\n",
    "    fig.show()\n",
    "plot_regression_results(y_true, y_pred)"
   ]
  },
  {
   "cell_type": "code",
   "execution_count": 17,
   "metadata": {},
   "outputs": [
    {
     "data": {
      "application/vnd.plotly.v1+json": {
       "config": {
        "plotlyServerURL": "https://plot.ly"
       },
       "data": [
        {
         "alignmentgroup": "True",
         "bingroup": "x",
         "hovertemplate": "error=%{x}<br>count=%{y}<extra></extra>",
         "legendgroup": "",
         "marker": {
          "color": "#636efa"
         },
         "name": "",
         "nbinsx": 50,
         "offsetgroup": "",
         "orientation": "v",
         "showlegend": false,
         "type": "histogram",
         "x": [
          12.476010851752335,
          -7.544788201536164,
          1.819240439305105,
          6.548005930448085,
          -0.1409855565572684,
          4.044217080722959,
          2.619060360061141,
          -5.543837111771779,
          -10.698062288450544,
          -6.499428500309193,
          -11.852323405423071,
          15.087642162256572,
          19.05518752858663,
          0.46500803534166835,
          11.788985569580959,
          -8.180380030630019,
          3.1504790059657353,
          -2.301490283458037,
          7.0495702292506195,
          14.812154427458808,
          0.4897902550899573,
          8.790456035417591,
          7.45923867073293,
          9.87274764385765,
          6.459991943814003,
          -4.042675530059853,
          11.477024018826626,
          -17.11184240587346,
          -3.195652238324641,
          -21.157285387765427,
          -8.116556129914684,
          21.670980250038482,
          -16.465610957349185,
          -8.897764899053556,
          27.96115702421838,
          -6.290378357055815,
          -0.020016365981049944,
          -0.6031567078468782,
          0.940492911330054,
          -15.11416087921316,
          -0.21836232031151326,
          12.020475035575046,
          8.1603772581297,
          7.357741630498722,
          -10.289702675202065,
          -1.2603582602853152,
          -4.477539133106134,
          12.912186730628314,
          -12.254508994834978,
          -3.5941513353270906,
          11.325771206208799,
          9.858775351299798,
          0.5019550941403708,
          4.766490983341669,
          -2.406968781109711,
          -5.848794794600366,
          -15.275214503040374,
          27.763352128839628,
          -6.123104998324166,
          2.7798724249890654,
          0.4677671806891226,
          14.972060653372914,
          -3.0634187917144757,
          -4.284513327504271,
          -15.081015511090982,
          -14.648042508770189,
          -6.876210627823397,
          -10.762783276445276,
          9.177175364490239,
          4.793888861895667,
          -3.2754510830453114,
          -2.913129644695431,
          13.564071436852657,
          4.555840312908003,
          9.702904321153724,
          0.6183373718330643,
          -0.14287036764150685,
          -1.0632798494913516,
          7.852351301383081,
          -4.532800604090994,
          1.7736386201629983,
          0.31404224433549643,
          -2.8616516407729478,
          16.786362994438562,
          -17.093069807770277,
          -6.481996149518437,
          -5.024685594629375,
          5.124514843035897,
          8.878926771039119,
          -9.552127793427175,
          14.607758951955816,
          -6.315425860406862,
          3.4542572487328584,
          8.969377178228143,
          -3.252872865144184,
          -1.5701245901382492,
          5.019639367576474,
          -6.131649454407409,
          -17.552333913330244,
          1.3097510890514314,
          -4.451953860076202,
          -3.4790925194313047,
          -0.810732498225903,
          5.481209741069108,
          2.7749702295240724,
          -3.1186205020765954,
          -8.491854766976047,
          -12.905420740982677,
          -1.4373917374578014,
          -6.141447005171216,
          13.197533859423217,
          -4.769361753253037,
          9.963942711104494,
          17.358652590279064,
          -6.951997674526112,
          -1.7103834021441884,
          3.7904435440097473,
          -6.83172935958676,
          -10.405544803176824,
          -1.8317812573889825,
          7.382590034290288,
          -5.861549340934346,
          10.435227607833482,
          -4.5193070774669195,
          6.6830533129304825,
          -5.684735469161566,
          22.362712203669012,
          8.414816059445144,
          8.429900781702614,
          -0.5241665347378728,
          3.2201369089060847,
          -11.22279879376434,
          -1.9626362634400607,
          16.454981992488527,
          6.671197788052609,
          15.11901026765051,
          -13.375692863315464,
          -6.8772534298611845,
          3.3735817008137587,
          -13.700135254411165,
          -3.496373011763694,
          -8.299481055996523,
          -13.953883830664552,
          1.6213440878601233,
          -22.85654348995076,
          -3.105326746457351,
          -0.2202939292248942,
          2.0173964345149926,
          3.089369292404868,
          -9.970926854285622,
          9.801112981483385,
          -4.651282927331991,
          0.8796907623773791,
          -8.716192527567713,
          -6.1536218114017345,
          5.0257841131120955,
          6.381577803996038,
          -1.291393941955576,
          19.4908066873909,
          22.26592767817131,
          -4.047844647320531,
          -10.124574377281192,
          6.488607095488206,
          1.070802973208771,
          -7.251368686853709,
          9.968638782192897,
          9.820294891595822,
          18.977906012500043,
          -4.550427231253607,
          -2.7812083964904986,
          -21.09865347153881,
          8.800667467406043,
          4.328465778811037,
          12.036082778108877,
          15.295330416548339,
          0.6895706599377007,
          0.01936118354051075,
          -5.8786124311603345,
          -9.586272455327858,
          -3.4855581790580032,
          -9.658176539952649,
          22.107627471723546,
          -5.383062031822533,
          4.3483046001275625,
          -2.809507034445957,
          -7.257839613081373,
          6.918886083681642,
          -10.225713544415584,
          6.263038236233697,
          -16.749726008421135,
          5.641338009587173,
          3.480478305909429,
          -4.083177488893284,
          21.48617101243744,
          -1.007158747232637,
          7.374996473256758,
          -16.284040095392214,
          0.13665569112163212,
          8.329078355736968,
          7.359307010875156,
          -6.691975089351786,
          -8.90310908530617,
          3.736644063204011,
          -10.639793283441946,
          0.02071916699161136,
          11.155322166074427,
          2.0353700369942516,
          -3.7250163545880213,
          -13.443117505120426,
          7.9104975345743895,
          -19.445157260330404,
          -2.3879266902721668,
          6.3901748296242005,
          8.2302154729244,
          5.427980453822769,
          -4.18011452033025,
          6.466813815067297,
          -28.5527493140751,
          -7.843990648247555,
          -5.546494663953908,
          -14.223625140245062,
          7.096765937190099,
          2.618542020674127,
          0.5470870631242519,
          -12.787252671984376,
          -11.21036133771669,
          13.787709969334692,
          3.045554466324319,
          -6.810540140838441,
          5.7927126936949875,
          -3.5152240085285484,
          -1.807182412663451,
          1.8010442047149127,
          5.423886093999812,
          14.141829894373728,
          -0.7363118011195056,
          -37.58176492449529,
          7.741287090485798,
          0.12427427776921718,
          -16.477651764007547,
          -11.359930681728542,
          -12.952913416730297,
          5.897801822616628,
          -17.67372441877572,
          11.661625033135692,
          -4.894560606221432,
          -15.403930978110907,
          16.294169892332732,
          10.103987084607965,
          -0.7000973678632221,
          6.097277128053847,
          0.7304493582414295,
          -6.5769008004180165,
          -6.664899684827176,
          -2.743980626905909,
          5.9327095671490895,
          -1.636549331656994,
          -12.095601581118316,
          -5.296133707593469,
          -13.234866495822828,
          0.4774172067469209,
          1.0746321408384176,
          -21.687437087388446,
          10.738107397584216,
          -8.842354815579768,
          4.735009756139149,
          -16.99339896053681,
          -5.878811452587229,
          1.6445610074137278,
          12.813490404941788,
          9.586396289229363,
          15.127614477241536,
          -14.60413861638591,
          0.08966871303465496,
          4.785662495147207,
          4.32593433528497,
          -8.982028604616431,
          18.818995182543063,
          0.6674383326313205,
          -22.31979385539286,
          3.8662845309737293,
          8.394442718519528,
          -0.7643671247483255,
          7.017204721945461,
          9.617888086268493,
          -16.847872218871004,
          6.777966714831621,
          -4.594676610244264,
          4.5084051144559965,
          0.513216641849823,
          -9.441244236635029,
          -5.985065021016851,
          -22.434221823681867,
          -12.177259459382242,
          -26.787482510551243,
          -15.340796772578514,
          7.567576608612839,
          -14.386144806959948,
          12.522487682802861,
          -2.051042543336365,
          -5.9919014053326975,
          -21.808575165294712,
          -12.406628646237095,
          0.22075048412686726,
          3.5127703799742562,
          3.6247566586056053,
          15.576563841655272,
          12.935619404252662,
          -5.323930446299229,
          2.9848882213344723,
          0.9498886735592436,
          20.44728864059165,
          3.3455040895542254,
          3.145808053651024,
          4.0959203996317655,
          -9.143400307514824,
          1.3680470336412611,
          -17.41464768351115,
          13.973471838990534,
          0.79222523447784,
          1.8792510297300709,
          -9.899212407674412,
          -12.761107661461011,
          -13.692675282859398,
          0.9355829398653697,
          23.2350110877071,
          2.8352913631462684,
          -12.20136095190955,
          12.322801195383448,
          4.977080157381565,
          -6.882078018609391,
          -0.6120080198740112,
          -3.248271086233345,
          -5.145502891656619,
          10.003527278843151,
          20.411786011555648,
          5.896296197777907,
          -14.2914939241208,
          -13.051172548185576,
          -15.50721363242701,
          7.42873358600886,
          8.268603919720618,
          -6.301116206107196,
          5.822557851863095,
          -6.130187700902539,
          7.7208269533877,
          -1.3577371157093268,
          -10.768247816894302,
          -5.786128234054303,
          15.106859593211695,
          -14.82863646358581,
          -13.532513221566276,
          10.619942032801745,
          3.993160879455658,
          -3.511826524931905,
          -4.6032280704048105,
          12.417620984690103,
          19.391063158421076,
          21.707520485298666,
          -9.689076286184644,
          -10.29546736323087,
          -5.2029792781385,
          -4.869158737756109,
          -2.8532071251225375,
          0.6927300564797321,
          1.3827036030315725,
          3.0527647935645916,
          12.214290720216525,
          7.101290722532198,
          -14.54147504335802,
          7.538749821697948,
          -0.8127310804552792,
          -4.407071777828307,
          -6.704233962030202,
          -13.86455574752307,
          -10.113521654154965,
          -8.0939215195191,
          -10.792313266148184,
          17.63717312335541,
          -0.015182262581831196,
          -1.835263812732876,
          4.979722730688422,
          -0.8535365212645871,
          10.741180371095965,
          14.285431306722927,
          9.268936691320135,
          -8.474360193622914,
          -14.393766571963297,
          13.585074781544563,
          -10.361081092456828,
          -15.278825145047506,
          0.3682038808359209,
          10.73968924482439,
          3.4087922156172397,
          2.326724096166373,
          -1.300309560237082,
          0.06907189380424938,
          2.535753649110063,
          3.849039925117424,
          -0.033509481655769946,
          -12.936920450226225,
          6.97432718363406,
          -3.8643182476632063,
          -3.04219378205525,
          -27.89792405344774,
          -6.992518240855276,
          5.0378177978439425,
          0.6413185482866339,
          8.412226423218584,
          -20.351570470967573,
          13.280371897047218,
          -11.150210904452194,
          -3.035160556991542,
          -3.7437159101930746,
          5.192975983930609,
          -12.618653617035491,
          16.856129393737646,
          4.172789862580402,
          23.627434085140223,
          5.554595513678848,
          -6.592643196694823,
          4.3675645271148085,
          -1.2533495235867207,
          -11.525972984396475,
          5.214782950526811,
          26.445826701289548,
          -4.752202567832271,
          7.996356257442258,
          0.9785265539784689,
          1.6693899438592013,
          3.492838714663719,
          2.730732819662933,
          5.411855290208166,
          6.236573021957128,
          9.020151384372127,
          21.446966303317176,
          -1.3103496774336634,
          -0.26626185665105595,
          13.774477449908836,
          -4.163185993923733,
          -4.538958239902058,
          5.214017290335008,
          -6.399054595570419,
          -16.95666349425602,
          -5.938895026028462,
          6.683765024485588,
          4.879008802917205,
          8.180449199420067,
          2.9273158849587304,
          5.738896924379745,
          6.42178040455066,
          -6.586039796202925,
          -3.1700093901939255,
          5.9006212107729965,
          -15.791443724850097,
          3.6288786634494414,
          0.29016249932935523,
          -11.904009956296406,
          -6.3135656896077705,
          -12.690772136497074,
          10.708098331830556,
          2.263348700316982,
          -3.2706634177988576,
          5.101209673100442,
          1.9101368759286856,
          -6.688899779844078,
          -3.356017581594301,
          -1.3944413408645886,
          10.940093609519181,
          1.3172663321672644,
          -4.8806561916024265,
          6.082268667728471,
          -23.663691038482412,
          -3.5822805623913183,
          0.9244246915186949,
          -11.190433704992614,
          10.296877419538347,
          -3.2603091682373275,
          -2.507278276322282,
          -8.323779424314338,
          3.62566598218784,
          -7.813539184636326,
          4.629495087217734,
          -16.385075752260548,
          -1.4447191396800037,
          -10.63643620060489,
          -3.275508523712233,
          3.7595362175504192,
          -4.362066166620679,
          0.6919169109229983,
          -14.703090101623573,
          8.906273145195357,
          -0.9718608402680076,
          5.5321903831467125,
          -18.56132994547761,
          -12.537890448821642,
          -11.717309474595766,
          -15.209490201830889,
          -2.536204803471449,
          -2.2313355616635278,
          15.347675709863694,
          -11.966261521888867,
          -9.90142621909358,
          6.8660662924893785,
          -6.959618414952189,
          3.5865331077099256,
          -7.393058675580747,
          -8.905755161452973,
          -16.494992840886,
          -10.52402045747506,
          -18.145409586778413,
          18.009910038410553,
          -9.647378612776947,
          -10.445918646466254,
          -9.322712347148098,
          10.790500222702335,
          2.0053139325210623,
          2.7594308126831066,
          6.281472889812534,
          11.992849641688537,
          16.747285634815498,
          -3.7922776537820937,
          16.13524559311017,
          -2.592614291338009,
          -13.965026265735816,
          2.285621569030397,
          5.2178696313436035,
          -3.6709769796798213,
          -2.6496133230015175,
          -12.629399543004226,
          4.941809336000617,
          -27.97539966566474,
          3.7893173130504465,
          1.1766843467989787,
          5.786459672619401,
          2.2812920507256393,
          -7.658977064865212,
          -2.299920905341395,
          -4.0073301161310155,
          4.351659924404487,
          10.531374523450893,
          -8.319317139878308,
          -18.412102584016026,
          -10.534253690474202,
          11.058360872940838,
          41.56515882789233,
          6.526868316138533,
          7.170755093823601,
          -6.743939484445804,
          -2.8774044902986873,
          3.100245403180992,
          -2.7671252081167808,
          -16.836146171564963,
          0.017530691047397795,
          0.9504232767043561,
          -22.312876041877644,
          5.610924593206903,
          30.23477253626079,
          0.8996476812315137,
          5.704140977359046,
          10.647292145546103,
          -3.919519100868392,
          3.993751625857911,
          15.949245025817227,
          -11.736000332943604,
          -7.535905689376165,
          4.872791656330023,
          6.13381532593246,
          8.16100031473772,
          -2.8819294465580327,
          -8.7270326430627,
          -2.2958948813200095,
          -13.88892552264636,
          -9.330309025295094,
          -1.6107367452173662,
          -0.8783469113279523,
          -14.831772998081021,
          2.0478317117642035,
          -0.17540837180207802,
          -2.0205770182278258,
          -1.7394446001082002,
          7.822052361727785,
          -2.048564365162747,
          16.668329677089474,
          -2.6995949903790404,
          0.1375464950730958,
          9.141430319006076,
          -7.680404449888698,
          -20.01452486669922,
          1.242762227666617,
          4.677975720000816,
          -7.136679761516035,
          8.405198764366517,
          0.2624483324011493,
          1.9497455601470364,
          3.171883104038315,
          4.403556901400066,
          -0.1799073964438236,
          15.700785678231256,
          5.286692051047837,
          20.390691188329114,
          16.55467507917963,
          7.0980212220445225,
          -4.481568680863816,
          2.4801664984801732,
          9.096876967665146,
          -2.2783967032609667,
          -1.223494323395471,
          25.080300743052348,
          -12.231584469492162,
          19.67565511875482,
          -16.90621052774516,
          10.100473616926678,
          5.8164422072090645,
          0.15421179434767396,
          21.173411490868688,
          -0.6736699359962017,
          8.32528025441141,
          0.637914336663826,
          20.469022704834984,
          11.855806381827776,
          7.156045752578407,
          -7.7801712990012675,
          4.85108008384357,
          0.5062851125377676,
          -4.434202632030335,
          -6.287645036871609,
          -16.88641682968806,
          6.974154120421588,
          4.522121811011232,
          2.9270361566274943,
          -8.491350706274261,
          1.8121094335240002,
          12.287076328294745,
          4.609190265601299,
          5.427113100153932,
          4.101890891855973,
          -9.081270076531766,
          11.756554299245778,
          0.030537396366781877,
          -10.696582717344029,
          -6.223901713143363,
          9.55563601007806,
          -0.026624571506445704,
          -0.6126112599942388,
          12.312146114822028,
          -4.065947439410422,
          -8.856518331483798,
          3.0414318625579995,
          17.534609204888753,
          -0.4100748113656323,
          -9.813598362372915,
          2.963049473858092,
          5.188210008121047,
          8.998900050892843,
          -10.109861600005104,
          20.172038803844572,
          21.75280982328556,
          3.5640577950906476,
          -14.461401496131558,
          16.193618794788676,
          -0.45729762347988867,
          -9.713118406724561,
          -7.684338677901863,
          -9.465415292158795,
          -4.917459728609018,
          3.751830303069383,
          -5.076006915267804,
          -19.25230683267965,
          10.815287567947436,
          -2.065980822736293,
          4.8785799934739345,
          -2.056468448442601,
          -9.527218156225743,
          -9.490409261533145,
          -8.308113917155325,
          8.444405733961332,
          -4.536750916973517,
          -7.866332054507296,
          14.997610809699282,
          -8.617657705000894,
          -12.258498970561519,
          -5.946062860631713,
          -4.404258004600322,
          5.5546428457811885,
          -5.709042566488037,
          3.0468016934256354,
          -9.277101281302606,
          18.0714145240501,
          4.54459042675488,
          -1.141210764649614,
          18.041950965070022,
          23.162324557233802,
          -1.188037361287627,
          -5.15962198464706,
          -1.541108467754654,
          -0.8872062037475956,
          16.701215860379932,
          -10.215402781112175,
          -7.155171003169528,
          1.4558116307196514,
          8.14296821307407,
          3.850928330030513,
          4.283584447776093,
          0.5707785654321498,
          -7.382367042209381,
          -11.849767971064068,
          8.992135991290212,
          23.706369009039093,
          -1.64309076899778,
          0.6200432755642709,
          0.1782644344927462,
          -8.910653288106943,
          -8.587585818500656,
          -9.994873811915483,
          4.334924398992015,
          2.7434506934952765,
          -9.153806244843551,
          -2.8824482485211433,
          -0.445842883916427,
          7.354206430134454,
          0.8448208042930929,
          5.239061790417892,
          10.037999079005203,
          1.4144743027748348,
          -7.59850499320433,
          17.919926186692607,
          3.7132078294762465,
          -4.638392246043551,
          -0.19880897564389954,
          7.493112614315763,
          -9.752410319536935,
          3.335267687590189,
          -9.826638126439889,
          -6.8608494445504675,
          -5.321070654950773,
          -14.08290740263233,
          7.620336313459717,
          -7.022491662792007,
          5.982948820394,
          19.686491312844367,
          -18.051918467507406,
          3.115550063385612,
          -6.947907513028753,
          -18.480532743147407,
          -4.353225829162994,
          0.5106294532562003,
          3.3023916153418327,
          -17.970009163334225,
          2.5416455158064366,
          11.564376657895679,
          -1.4028578564337977,
          -4.793703241886263,
          -2.357306147868144,
          12.409334154788525,
          3.5309733415856783,
          4.798551035799008,
          -0.6743670282343857,
          -3.211497807044225,
          8.53807305818249,
          -7.5165063805555405,
          9.69618360717375,
          8.23835135153763,
          -0.5296168263480467,
          -5.864914023959031,
          6.350173698894217,
          2.365089891815515,
          2.8658891041310284,
          -2.143672436085751,
          -4.718853513753174,
          -8.531886605670536,
          12.98207638600745,
          9.390151962611839,
          4.008852098464658,
          15.712775857473396,
          -6.070764675886835,
          -0.8225800931192708,
          22.334932565792172,
          5.068479965797195,
          3.3512254985226377,
          2.5739041587638667,
          -4.192236046490962,
          18.014600287079162,
          -3.0268093102218074,
          -3.707572104047159,
          -1.0372199578511072,
          -22.650957093893,
          0.8068417343429246,
          -2.512817894316669,
          8.674149263241802,
          -0.6000345026631493,
          -17.56987991601889,
          15.853842329909142,
          -7.987421041225232,
          -16.77603220050824,
          2.14092668464707,
          -18.902596355472213,
          12.698678217427485,
          -1.0811926162062377,
          -5.058490282028089,
          -4.471466716169303,
          -21.620799990173083,
          1.3734851751387822,
          -6.640580020206528,
          12.78154574963034,
          -2.6836834740026063,
          -7.402781735485874,
          6.9646579019878345,
          4.992937494167094,
          -4.18166581908234,
          15.712191562921902,
          -6.327516384239615,
          11.976837732871388,
          -24.443080083654834,
          -1.8797670618729256,
          8.643805272713891,
          4.062593722726518,
          11.760152434891552,
          -0.07759293252422594,
          20.840489463061346,
          -3.838690687236337,
          0.1413670480770719,
          -4.38412875296477,
          -4.166445669337193,
          5.5195386732897305,
          4.173829928572033,
          2.038193324190317,
          11.798078339147153,
          6.211162074474743,
          16.337565831680124,
          2.7208556692015122,
          -10.209568128270845,
          -7.147446636305418,
          1.9123116888429195,
          19.967587825777898,
          12.214372217369743,
          6.512097099630502,
          21.232479186841857,
          19.061324256140153,
          14.75063409784076,
          2.3166825335397476,
          12.378526126182237,
          6.031904561175267,
          -2.169007437250116,
          -21.353341646071357,
          7.159434769703253,
          -1.044174023550454,
          -0.2180993989414759,
          0.42438178294509044,
          12.60010233942667,
          -8.994321860544886,
          -4.75938449424666,
          -5.220206710223792,
          -0.6484507044794583,
          7.853887519828902,
          6.630258992659883,
          -3.596708172636397,
          0.7912396969741025,
          7.849819195558155,
          6.983893958597449,
          1.109581739150812,
          0.5800114635821245,
          -0.10283037615320723,
          -3.444092468463211,
          6.790572525438449,
          5.429305017843319,
          -11.51903079710057,
          5.9883979247078685,
          -7.659504735885534,
          3.51053390247732,
          19.303280882387043,
          -4.633069234295206,
          -12.165677942783006,
          3.3027272847527485,
          -3.040624322736207,
          -1.7723600558792612,
          5.474346661236424,
          18.949568838306277,
          -20.775701470670484,
          7.561539549359054,
          -17.657178269956106,
          -1.941565868010244,
          5.107577006635893,
          4.157680905304673,
          -2.567146798209464,
          16.075503809874064,
          -0.24821463849120562,
          1.0177423537525243,
          -9.699938076575464,
          -4.037440279453065,
          -16.926414339417306,
          9.819380769021024,
          -12.50285265660412,
          -3.2514391118967723,
          14.801803984957743,
          -18.79557668236407,
          -10.041960230107208,
          -13.149026187865744,
          4.729846514437483,
          -3.054113099316922,
          -11.941306975622666,
          3.5137103892492405,
          11.77145147778539,
          27.796977465245078,
          -6.805671800661159,
          3.3742981234134106,
          -0.2564896853106404,
          5.47937752766552,
          1.4805109238894971,
          7.405492259434936,
          25.013195011307033,
          0.5366123212783691,
          -2.1354211482340304,
          -1.5907095802787978,
          -8.931134683696456,
          -0.40294832282053505,
          -7.53770975512208,
          13.13627850870887,
          -2.9646621425027604,
          -16.300783579925053,
          12.79828609252894,
          10.081268597328815,
          15.824559315993,
          8.569564726870667,
          -0.7622283784654655,
          2.3629388458508203,
          -3.142067018303109,
          20.996856463766704,
          22.302986369110414,
          -4.53393633980771,
          -1.4913354864126518,
          -5.947218622970055,
          20.52072551245943,
          14.481704265888538,
          2.0986788054679977,
          -18.119597616843166,
          7.128586676446957,
          -21.373414503949,
          6.056343940140934,
          11.061695257807557,
          7.433004990456482,
          3.2296735074769884,
          -10.644591789896168,
          6.09755018190662,
          5.594378031560481,
          0.3541919249649368,
          4.637574141003114,
          9.450999584273148,
          21.599721234863054,
          -1.064693570051304,
          4.157598441486371,
          0.9749337087091732,
          -24.158448625183638,
          1.328545989264569,
          -1.9863095828239778,
          -5.670824099123834,
          3.2051294538476895,
          26.132315904789138,
          -3.8941789835730276,
          -5.237966442347911,
          -3.5209052452659932,
          15.458374190765397,
          1.0905700749971032,
          -2.848193789702208,
          5.846694558894782,
          -3.8747111708415076,
          -11.443088405319486,
          -7.7261168528683015,
          15.398688140672832,
          1.313719596106239,
          11.94719334594599,
          -16.76459265685591,
          1.3285543216286015,
          14.552478829832438,
          1.1328531872237164,
          -14.410598044004175,
          11.179570729649058,
          -22.350108133566394,
          2.123252760438376,
          -14.636510877162124,
          -12.93089434777228,
          -7.611380600013533,
          11.046640493968454,
          -17.009439852106766,
          9.640309019707473,
          6.0396736726862486,
          -6.382883191226853,
          7.239219967827708,
          -7.5098655021173215,
          -3.407536921617279,
          -6.3925497837413445,
          -10.33511089988481,
          20.996429035250024,
          -19.992375591832044,
          9.110295174620916,
          3.340634941742735,
          9.656945187673443,
          -11.155509185686327,
          13.6386116078465,
          11.536314955520098
         ],
         "xaxis": "x",
         "yaxis": "y"
        }
       ],
       "layout": {
        "autosize": true,
        "barmode": "relative",
        "legend": {
         "tracegroupgap": 0
        },
        "margin": {
         "t": 60
        },
        "template": {
         "data": {
          "bar": [
           {
            "error_x": {
             "color": "#2a3f5f"
            },
            "error_y": {
             "color": "#2a3f5f"
            },
            "marker": {
             "line": {
              "color": "#E5ECF6",
              "width": 0.5
             }
            },
            "type": "bar"
           }
          ],
          "barpolar": [
           {
            "marker": {
             "line": {
              "color": "#E5ECF6",
              "width": 0.5
             }
            },
            "type": "barpolar"
           }
          ],
          "carpet": [
           {
            "aaxis": {
             "endlinecolor": "#2a3f5f",
             "gridcolor": "white",
             "linecolor": "white",
             "minorgridcolor": "white",
             "startlinecolor": "#2a3f5f"
            },
            "baxis": {
             "endlinecolor": "#2a3f5f",
             "gridcolor": "white",
             "linecolor": "white",
             "minorgridcolor": "white",
             "startlinecolor": "#2a3f5f"
            },
            "type": "carpet"
           }
          ],
          "choropleth": [
           {
            "colorbar": {
             "outlinewidth": 0,
             "ticks": ""
            },
            "type": "choropleth"
           }
          ],
          "contour": [
           {
            "colorbar": {
             "outlinewidth": 0,
             "ticks": ""
            },
            "colorscale": [
             [
              0,
              "#0d0887"
             ],
             [
              0.1111111111111111,
              "#46039f"
             ],
             [
              0.2222222222222222,
              "#7201a8"
             ],
             [
              0.3333333333333333,
              "#9c179e"
             ],
             [
              0.4444444444444444,
              "#bd3786"
             ],
             [
              0.5555555555555556,
              "#d8576b"
             ],
             [
              0.6666666666666666,
              "#ed7953"
             ],
             [
              0.7777777777777778,
              "#fb9f3a"
             ],
             [
              0.8888888888888888,
              "#fdca26"
             ],
             [
              1,
              "#f0f921"
             ]
            ],
            "type": "contour"
           }
          ],
          "contourcarpet": [
           {
            "colorbar": {
             "outlinewidth": 0,
             "ticks": ""
            },
            "type": "contourcarpet"
           }
          ],
          "heatmap": [
           {
            "colorbar": {
             "outlinewidth": 0,
             "ticks": ""
            },
            "colorscale": [
             [
              0,
              "#0d0887"
             ],
             [
              0.1111111111111111,
              "#46039f"
             ],
             [
              0.2222222222222222,
              "#7201a8"
             ],
             [
              0.3333333333333333,
              "#9c179e"
             ],
             [
              0.4444444444444444,
              "#bd3786"
             ],
             [
              0.5555555555555556,
              "#d8576b"
             ],
             [
              0.6666666666666666,
              "#ed7953"
             ],
             [
              0.7777777777777778,
              "#fb9f3a"
             ],
             [
              0.8888888888888888,
              "#fdca26"
             ],
             [
              1,
              "#f0f921"
             ]
            ],
            "type": "heatmap"
           }
          ],
          "heatmapgl": [
           {
            "colorbar": {
             "outlinewidth": 0,
             "ticks": ""
            },
            "colorscale": [
             [
              0,
              "#0d0887"
             ],
             [
              0.1111111111111111,
              "#46039f"
             ],
             [
              0.2222222222222222,
              "#7201a8"
             ],
             [
              0.3333333333333333,
              "#9c179e"
             ],
             [
              0.4444444444444444,
              "#bd3786"
             ],
             [
              0.5555555555555556,
              "#d8576b"
             ],
             [
              0.6666666666666666,
              "#ed7953"
             ],
             [
              0.7777777777777778,
              "#fb9f3a"
             ],
             [
              0.8888888888888888,
              "#fdca26"
             ],
             [
              1,
              "#f0f921"
             ]
            ],
            "type": "heatmapgl"
           }
          ],
          "histogram": [
           {
            "marker": {
             "colorbar": {
              "outlinewidth": 0,
              "ticks": ""
             }
            },
            "type": "histogram"
           }
          ],
          "histogram2d": [
           {
            "colorbar": {
             "outlinewidth": 0,
             "ticks": ""
            },
            "colorscale": [
             [
              0,
              "#0d0887"
             ],
             [
              0.1111111111111111,
              "#46039f"
             ],
             [
              0.2222222222222222,
              "#7201a8"
             ],
             [
              0.3333333333333333,
              "#9c179e"
             ],
             [
              0.4444444444444444,
              "#bd3786"
             ],
             [
              0.5555555555555556,
              "#d8576b"
             ],
             [
              0.6666666666666666,
              "#ed7953"
             ],
             [
              0.7777777777777778,
              "#fb9f3a"
             ],
             [
              0.8888888888888888,
              "#fdca26"
             ],
             [
              1,
              "#f0f921"
             ]
            ],
            "type": "histogram2d"
           }
          ],
          "histogram2dcontour": [
           {
            "colorbar": {
             "outlinewidth": 0,
             "ticks": ""
            },
            "colorscale": [
             [
              0,
              "#0d0887"
             ],
             [
              0.1111111111111111,
              "#46039f"
             ],
             [
              0.2222222222222222,
              "#7201a8"
             ],
             [
              0.3333333333333333,
              "#9c179e"
             ],
             [
              0.4444444444444444,
              "#bd3786"
             ],
             [
              0.5555555555555556,
              "#d8576b"
             ],
             [
              0.6666666666666666,
              "#ed7953"
             ],
             [
              0.7777777777777778,
              "#fb9f3a"
             ],
             [
              0.8888888888888888,
              "#fdca26"
             ],
             [
              1,
              "#f0f921"
             ]
            ],
            "type": "histogram2dcontour"
           }
          ],
          "mesh3d": [
           {
            "colorbar": {
             "outlinewidth": 0,
             "ticks": ""
            },
            "type": "mesh3d"
           }
          ],
          "parcoords": [
           {
            "line": {
             "colorbar": {
              "outlinewidth": 0,
              "ticks": ""
             }
            },
            "type": "parcoords"
           }
          ],
          "pie": [
           {
            "automargin": true,
            "type": "pie"
           }
          ],
          "scatter": [
           {
            "marker": {
             "colorbar": {
              "outlinewidth": 0,
              "ticks": ""
             }
            },
            "type": "scatter"
           }
          ],
          "scatter3d": [
           {
            "line": {
             "colorbar": {
              "outlinewidth": 0,
              "ticks": ""
             }
            },
            "marker": {
             "colorbar": {
              "outlinewidth": 0,
              "ticks": ""
             }
            },
            "type": "scatter3d"
           }
          ],
          "scattercarpet": [
           {
            "marker": {
             "colorbar": {
              "outlinewidth": 0,
              "ticks": ""
             }
            },
            "type": "scattercarpet"
           }
          ],
          "scattergeo": [
           {
            "marker": {
             "colorbar": {
              "outlinewidth": 0,
              "ticks": ""
             }
            },
            "type": "scattergeo"
           }
          ],
          "scattergl": [
           {
            "marker": {
             "colorbar": {
              "outlinewidth": 0,
              "ticks": ""
             }
            },
            "type": "scattergl"
           }
          ],
          "scattermapbox": [
           {
            "marker": {
             "colorbar": {
              "outlinewidth": 0,
              "ticks": ""
             }
            },
            "type": "scattermapbox"
           }
          ],
          "scatterpolar": [
           {
            "marker": {
             "colorbar": {
              "outlinewidth": 0,
              "ticks": ""
             }
            },
            "type": "scatterpolar"
           }
          ],
          "scatterpolargl": [
           {
            "marker": {
             "colorbar": {
              "outlinewidth": 0,
              "ticks": ""
             }
            },
            "type": "scatterpolargl"
           }
          ],
          "scatterternary": [
           {
            "marker": {
             "colorbar": {
              "outlinewidth": 0,
              "ticks": ""
             }
            },
            "type": "scatterternary"
           }
          ],
          "surface": [
           {
            "colorbar": {
             "outlinewidth": 0,
             "ticks": ""
            },
            "colorscale": [
             [
              0,
              "#0d0887"
             ],
             [
              0.1111111111111111,
              "#46039f"
             ],
             [
              0.2222222222222222,
              "#7201a8"
             ],
             [
              0.3333333333333333,
              "#9c179e"
             ],
             [
              0.4444444444444444,
              "#bd3786"
             ],
             [
              0.5555555555555556,
              "#d8576b"
             ],
             [
              0.6666666666666666,
              "#ed7953"
             ],
             [
              0.7777777777777778,
              "#fb9f3a"
             ],
             [
              0.8888888888888888,
              "#fdca26"
             ],
             [
              1,
              "#f0f921"
             ]
            ],
            "type": "surface"
           }
          ],
          "table": [
           {
            "cells": {
             "fill": {
              "color": "#EBF0F8"
             },
             "line": {
              "color": "white"
             }
            },
            "header": {
             "fill": {
              "color": "#C8D4E3"
             },
             "line": {
              "color": "white"
             }
            },
            "type": "table"
           }
          ]
         },
         "layout": {
          "annotationdefaults": {
           "arrowcolor": "#2a3f5f",
           "arrowhead": 0,
           "arrowwidth": 1
          },
          "coloraxis": {
           "colorbar": {
            "outlinewidth": 0,
            "ticks": ""
           }
          },
          "colorscale": {
           "diverging": [
            [
             0,
             "#8e0152"
            ],
            [
             0.1,
             "#c51b7d"
            ],
            [
             0.2,
             "#de77ae"
            ],
            [
             0.3,
             "#f1b6da"
            ],
            [
             0.4,
             "#fde0ef"
            ],
            [
             0.5,
             "#f7f7f7"
            ],
            [
             0.6,
             "#e6f5d0"
            ],
            [
             0.7,
             "#b8e186"
            ],
            [
             0.8,
             "#7fbc41"
            ],
            [
             0.9,
             "#4d9221"
            ],
            [
             1,
             "#276419"
            ]
           ],
           "sequential": [
            [
             0,
             "#0d0887"
            ],
            [
             0.1111111111111111,
             "#46039f"
            ],
            [
             0.2222222222222222,
             "#7201a8"
            ],
            [
             0.3333333333333333,
             "#9c179e"
            ],
            [
             0.4444444444444444,
             "#bd3786"
            ],
            [
             0.5555555555555556,
             "#d8576b"
            ],
            [
             0.6666666666666666,
             "#ed7953"
            ],
            [
             0.7777777777777778,
             "#fb9f3a"
            ],
            [
             0.8888888888888888,
             "#fdca26"
            ],
            [
             1,
             "#f0f921"
            ]
           ],
           "sequentialminus": [
            [
             0,
             "#0d0887"
            ],
            [
             0.1111111111111111,
             "#46039f"
            ],
            [
             0.2222222222222222,
             "#7201a8"
            ],
            [
             0.3333333333333333,
             "#9c179e"
            ],
            [
             0.4444444444444444,
             "#bd3786"
            ],
            [
             0.5555555555555556,
             "#d8576b"
            ],
            [
             0.6666666666666666,
             "#ed7953"
            ],
            [
             0.7777777777777778,
             "#fb9f3a"
            ],
            [
             0.8888888888888888,
             "#fdca26"
            ],
            [
             1,
             "#f0f921"
            ]
           ]
          },
          "colorway": [
           "#636efa",
           "#EF553B",
           "#00cc96",
           "#ab63fa",
           "#FFA15A",
           "#19d3f3",
           "#FF6692",
           "#B6E880",
           "#FF97FF",
           "#FECB52"
          ],
          "font": {
           "color": "#2a3f5f"
          },
          "geo": {
           "bgcolor": "white",
           "lakecolor": "white",
           "landcolor": "#E5ECF6",
           "showlakes": true,
           "showland": true,
           "subunitcolor": "white"
          },
          "hoverlabel": {
           "align": "left"
          },
          "hovermode": "closest",
          "mapbox": {
           "style": "light"
          },
          "paper_bgcolor": "white",
          "plot_bgcolor": "#E5ECF6",
          "polar": {
           "angularaxis": {
            "gridcolor": "white",
            "linecolor": "white",
            "ticks": ""
           },
           "bgcolor": "#E5ECF6",
           "radialaxis": {
            "gridcolor": "white",
            "linecolor": "white",
            "ticks": ""
           }
          },
          "scene": {
           "xaxis": {
            "backgroundcolor": "#E5ECF6",
            "gridcolor": "white",
            "gridwidth": 2,
            "linecolor": "white",
            "showbackground": true,
            "ticks": "",
            "zerolinecolor": "white"
           },
           "yaxis": {
            "backgroundcolor": "#E5ECF6",
            "gridcolor": "white",
            "gridwidth": 2,
            "linecolor": "white",
            "showbackground": true,
            "ticks": "",
            "zerolinecolor": "white"
           },
           "zaxis": {
            "backgroundcolor": "#E5ECF6",
            "gridcolor": "white",
            "gridwidth": 2,
            "linecolor": "white",
            "showbackground": true,
            "ticks": "",
            "zerolinecolor": "white"
           }
          },
          "shapedefaults": {
           "line": {
            "color": "#2a3f5f"
           }
          },
          "ternary": {
           "aaxis": {
            "gridcolor": "white",
            "linecolor": "white",
            "ticks": ""
           },
           "baxis": {
            "gridcolor": "white",
            "linecolor": "white",
            "ticks": ""
           },
           "bgcolor": "#E5ECF6",
           "caxis": {
            "gridcolor": "white",
            "linecolor": "white",
            "ticks": ""
           }
          },
          "title": {
           "x": 0.05
          },
          "xaxis": {
           "automargin": true,
           "gridcolor": "white",
           "linecolor": "white",
           "ticks": "",
           "title": {
            "standoff": 15
           },
           "zerolinecolor": "white",
           "zerolinewidth": 2
          },
          "yaxis": {
           "automargin": true,
           "gridcolor": "white",
           "linecolor": "white",
           "ticks": "",
           "title": {
            "standoff": 15
           },
           "zerolinecolor": "white",
           "zerolinewidth": 2
          }
         }
        },
        "xaxis": {
         "anchor": "y",
         "autorange": true,
         "domain": [
          0,
          1
         ],
         "range": [
          -38,
          42
         ],
         "title": {
          "text": "error"
         },
         "type": "linear"
        },
        "yaxis": {
         "anchor": "x",
         "autorange": true,
         "domain": [
          0,
          1
         ],
         "range": [
          0,
          87.36842105263158
         ],
         "title": {
          "text": "count"
         }
        }
       }
      },
      "image/png": "[encoded data removed]",
      "text/html": [
       "<div>                            <div id=\"339305fa-cbab-4f20-830b-156e29115faf\" class=\"plotly-graph-div\" style=\"height:525px; width:800px;\"></div>            <script type=\"text/javascript\">                require([\"plotly\"], function(Plotly) {                    window.PLOTLYENV=window.PLOTLYENV || {};                                    if (document.getElementById(\"339305fa-cbab-4f20-830b-156e29115faf\")) {                    Plotly.newPlot(                        \"339305fa-cbab-4f20-830b-156e29115faf\",                        [{\"alignmentgroup\": \"True\", \"bingroup\": \"x\", \"hovertemplate\": \"error=%{x}<br>count=%{y}<extra></extra>\", \"legendgroup\": \"\", \"marker\": {\"color\": \"#636efa\"}, \"name\": \"\", \"nbinsx\": 50, \"offsetgroup\": \"\", \"orientation\": \"v\", \"showlegend\": false, \"type\": \"histogram\", \"x\": [12.476010851752335, -7.544788201536164, 1.819240439305105, 6.548005930448085, -0.1409855565572684, 4.044217080722959, 2.619060360061141, -5.543837111771779, -10.698062288450544, -6.499428500309193, -11.852323405423071, 15.087642162256572, 19.05518752858663, 0.46500803534166835, 11.788985569580959, -8.180380030630019, 3.1504790059657353, -2.301490283458037, 7.0495702292506195, 14.812154427458808, 0.4897902550899573, 8.790456035417591, 7.45923867073293, 9.87274764385765, 6.459991943814003, -4.042675530059853, 11.477024018826626, -17.11184240587346, -3.195652238324641, -21.157285387765427, -8.116556129914684, 21.670980250038482, -16.465610957349185, -8.897764899053556, 27.96115702421838, -6.290378357055815, -0.020016365981049944, -0.6031567078468782, 0.940492911330054, -15.11416087921316, -0.21836232031151326, 12.020475035575046, 8.1603772581297, 7.357741630498722, -10.289702675202065, -1.2603582602853152, -4.477539133106134, 12.912186730628314, -12.254508994834978, -3.5941513353270906, 11.325771206208799, 9.858775351299798, 0.5019550941403708, 4.766490983341669, -2.406968781109711, -5.848794794600366, -15.275214503040374, 27.763352128839628, -6.123104998324166, 2.7798724249890654, 0.4677671806891226, 14.972060653372914, -3.0634187917144757, -4.284513327504271, -15.081015511090982, -14.648042508770189, -6.876210627823397, -10.762783276445276, 9.177175364490239, 4.793888861895667, -3.2754510830453114, -2.913129644695431, 13.564071436852657, 4.555840312908003, 9.702904321153724, 0.6183373718330643, -0.14287036764150685, -1.0632798494913516, 7.852351301383081, -4.532800604090994, 1.7736386201629983, 0.31404224433549643, -2.8616516407729478, 16.786362994438562, -17.093069807770277, -6.481996149518437, -5.024685594629375, 5.124514843035897, 8.878926771039119, -9.552127793427175, 14.607758951955816, -6.315425860406862, 3.4542572487328584, 8.969377178228143, -3.252872865144184, -1.5701245901382492, 5.019639367576474, -6.131649454407409, -17.552333913330244, 1.3097510890514314, -4.451953860076202, -3.4790925194313047, -0.810732498225903, 5.481209741069108, 2.7749702295240724, -3.1186205020765954, -8.491854766976047, -12.905420740982677, -1.4373917374578014, -6.141447005171216, 13.197533859423217, -4.769361753253037, 9.963942711104494, 17.358652590279064, -6.951997674526112, -1.7103834021441884, 3.7904435440097473, -6.83172935958676, -10.405544803176824, -1.8317812573889825, 7.382590034290288, -5.861549340934346, 10.435227607833482, -4.5193070774669195, 6.6830533129304825, -5.684735469161566, 22.362712203669012, 8.414816059445144, 8.429900781702614, -0.5241665347378728, 3.2201369089060847, -11.22279879376434, -1.9626362634400607, 16.454981992488527, 6.671197788052609, 15.11901026765051, -13.375692863315464, -6.8772534298611845, 3.3735817008137587, -13.700135254411165, -3.496373011763694, -8.299481055996523, -13.953883830664552, 1.6213440878601233, -22.85654348995076, -3.105326746457351, -0.2202939292248942, 2.0173964345149926, 3.089369292404868, -9.970926854285622, 9.801112981483385, -4.651282927331991, 0.8796907623773791, -8.716192527567713, -6.1536218114017345, 5.0257841131120955, 6.381577803996038, -1.291393941955576, 19.4908066873909, 22.26592767817131, -4.047844647320531, -10.124574377281192, 6.488607095488206, 1.070802973208771, -7.251368686853709, 9.968638782192897, 9.820294891595822, 18.977906012500043, -4.550427231253607, -2.7812083964904986, -21.09865347153881, 8.800667467406043, 4.328465778811037, 12.036082778108877, 15.295330416548339, 0.6895706599377007, 0.01936118354051075, -5.8786124311603345, -9.586272455327858, -3.4855581790580032, -9.658176539952649, 22.107627471723546, -5.383062031822533, 4.3483046001275625, -2.809507034445957, -7.257839613081373, 6.918886083681642, -10.225713544415584, 6.263038236233697, -16.749726008421135, 5.641338009587173, 3.480478305909429, -4.083177488893284, 21.48617101243744, -1.007158747232637, 7.374996473256758, -16.284040095392214, 0.13665569112163212, 8.329078355736968, 7.359307010875156, -6.691975089351786, -8.90310908530617, 3.736644063204011, -10.639793283441946, 0.02071916699161136, 11.155322166074427, 2.0353700369942516, -3.7250163545880213, -13.443117505120426, 7.9104975345743895, -19.445157260330404, -2.3879266902721668, 6.3901748296242005, 8.2302154729244, 5.427980453822769, -4.18011452033025, 6.466813815067297, -28.5527493140751, -7.843990648247555, -5.546494663953908, -14.223625140245062, 7.096765937190099, 2.618542020674127, 0.5470870631242519, -12.787252671984376, -11.21036133771669, 13.787709969334692, 3.045554466324319, -6.810540140838441, 5.7927126936949875, -3.5152240085285484, -1.807182412663451, 1.8010442047149127, 5.423886093999812, 14.141829894373728, -0.7363118011195056, -37.58176492449529, 7.741287090485798, 0.12427427776921718, -16.477651764007547, -11.359930681728542, -12.952913416730297, 5.897801822616628, -17.67372441877572, 11.661625033135692, -4.894560606221432, -15.403930978110907, 16.294169892332732, 10.103987084607965, -0.7000973678632221, 6.097277128053847, 0.7304493582414295, -6.5769008004180165, -6.664899684827176, -2.743980626905909, 5.9327095671490895, -1.636549331656994, -12.095601581118316, -5.296133707593469, -13.234866495822828, 0.4774172067469209, 1.0746321408384176, -21.687437087388446, 10.738107397584216, -8.842354815579768, 4.735009756139149, -16.99339896053681, -5.878811452587229, 1.6445610074137278, 12.813490404941788, 9.586396289229363, 15.127614477241536, -14.60413861638591, 0.08966871303465496, 4.785662495147207, 4.32593433528497, -8.982028604616431, 18.818995182543063, 0.6674383326313205, -22.31979385539286, 3.8662845309737293, 8.394442718519528, -0.7643671247483255, 7.017204721945461, 9.617888086268493, -16.847872218871004, 6.777966714831621, -4.594676610244264, 4.5084051144559965, 0.513216641849823, -9.441244236635029, -5.985065021016851, -22.434221823681867, -12.177259459382242, -26.787482510551243, -15.340796772578514, 7.567576608612839, -14.386144806959948, 12.522487682802861, -2.051042543336365, -5.9919014053326975, -21.808575165294712, -12.406628646237095, 0.22075048412686726, 3.5127703799742562, 3.6247566586056053, 15.576563841655272, 12.935619404252662, -5.323930446299229, 2.9848882213344723, 0.9498886735592436, 20.44728864059165, 3.3455040895542254, 3.145808053651024, 4.0959203996317655, -9.143400307514824, 1.3680470336412611, -17.41464768351115, 13.973471838990534, 0.79222523447784, 1.8792510297300709, -9.899212407674412, -12.761107661461011, -13.692675282859398, 0.9355829398653697, 23.2350110877071, 2.8352913631462684, -12.20136095190955, 12.322801195383448, 4.977080157381565, -6.882078018609391, -0.6120080198740112, -3.248271086233345, -5.145502891656619, 10.003527278843151, 20.411786011555648, 5.896296197777907, -14.2914939241208, -13.051172548185576, -15.50721363242701, 7.42873358600886, 8.268603919720618, -6.301116206107196, 5.822557851863095, -6.130187700902539, 7.7208269533877, -1.3577371157093268, -10.768247816894302, -5.786128234054303, 15.106859593211695, -14.82863646358581, -13.532513221566276, 10.619942032801745, 3.993160879455658, -3.511826524931905, -4.6032280704048105, 12.417620984690103, 19.391063158421076, 21.707520485298666, -9.689076286184644, -10.29546736323087, -5.2029792781385, -4.869158737756109, -2.8532071251225375, 0.6927300564797321, 1.3827036030315725, 3.0527647935645916, 12.214290720216525, 7.101290722532198, -14.54147504335802, 7.538749821697948, -0.8127310804552792, -4.407071777828307, -6.704233962030202, -13.86455574752307, -10.113521654154965, -8.0939215195191, -10.792313266148184, 17.63717312335541, -0.015182262581831196, -1.835263812732876, 4.979722730688422, -0.8535365212645871, 10.741180371095965, 14.285431306722927, 9.268936691320135, -8.474360193622914, -14.393766571963297, 13.585074781544563, -10.361081092456828, -15.278825145047506, 0.3682038808359209, 10.73968924482439, 3.4087922156172397, 2.326724096166373, -1.300309560237082, 0.06907189380424938, 2.535753649110063, 3.849039925117424, -0.033509481655769946, -12.936920450226225, 6.97432718363406, -3.8643182476632063, -3.04219378205525, -27.89792405344774, -6.992518240855276, 5.0378177978439425, 0.6413185482866339, 8.412226423218584, -20.351570470967573, 13.280371897047218, -11.150210904452194, -3.035160556991542, -3.7437159101930746, 5.192975983930609, -12.618653617035491, 16.856129393737646, 4.172789862580402, 23.627434085140223, 5.554595513678848, -6.592643196694823, 4.3675645271148085, -1.2533495235867207, -11.525972984396475, 5.214782950526811, 26.445826701289548, -4.752202567832271, 7.996356257442258, 0.9785265539784689, 1.6693899438592013, 3.492838714663719, 2.730732819662933, 5.411855290208166, 6.236573021957128, 9.020151384372127, 21.446966303317176, -1.3103496774336634, -0.26626185665105595, 13.774477449908836, -4.163185993923733, -4.538958239902058, 5.214017290335008, -6.399054595570419, -16.95666349425602, -5.938895026028462, 6.683765024485588, 4.879008802917205, 8.180449199420067, 2.9273158849587304, 5.738896924379745, 6.42178040455066, -6.586039796202925, -3.1700093901939255, 5.9006212107729965, -15.791443724850097, 3.6288786634494414, 0.29016249932935523, -11.904009956296406, -6.3135656896077705, -12.690772136497074, 10.708098331830556, 2.263348700316982, -3.2706634177988576, 5.101209673100442, 1.9101368759286856, -6.688899779844078, -3.356017581594301, -1.3944413408645886, 10.940093609519181, 1.3172663321672644, -4.8806561916024265, 6.082268667728471, -23.663691038482412, -3.5822805623913183, 0.9244246915186949, -11.190433704992614, 10.296877419538347, -3.2603091682373275, -2.507278276322282, -8.323779424314338, 3.62566598218784, -7.813539184636326, 4.629495087217734, -16.385075752260548, -1.4447191396800037, -10.63643620060489, -3.275508523712233, 3.7595362175504192, -4.362066166620679, 0.6919169109229983, -14.703090101623573, 8.906273145195357, -0.9718608402680076, 5.5321903831467125, -18.56132994547761, -12.537890448821642, -11.717309474595766, -15.209490201830889, -2.536204803471449, -2.2313355616635278, 15.347675709863694, -11.966261521888867, -9.90142621909358, 6.8660662924893785, -6.959618414952189, 3.5865331077099256, -7.393058675580747, -8.905755161452973, -16.494992840886, -10.52402045747506, -18.145409586778413, 18.009910038410553, -9.647378612776947, -10.445918646466254, -9.322712347148098, 10.790500222702335, 2.0053139325210623, 2.7594308126831066, 6.281472889812534, 11.992849641688537, 16.747285634815498, -3.7922776537820937, 16.13524559311017, -2.592614291338009, -13.965026265735816, 2.285621569030397, 5.2178696313436035, -3.6709769796798213, -2.6496133230015175, -12.629399543004226, 4.941809336000617, -27.97539966566474, 3.7893173130504465, 1.1766843467989787, 5.786459672619401, 2.2812920507256393, -7.658977064865212, -2.299920905341395, -4.0073301161310155, 4.351659924404487, 10.531374523450893, -8.319317139878308, -18.412102584016026, -10.534253690474202, 11.058360872940838, 41.56515882789233, 6.526868316138533, 7.170755093823601, -6.743939484445804, -2.8774044902986873, 3.100245403180992, -2.7671252081167808, -16.836146171564963, 0.017530691047397795, 0.9504232767043561, -22.312876041877644, 5.610924593206903, 30.23477253626079, 0.8996476812315137, 5.704140977359046, 10.647292145546103, -3.919519100868392, 3.993751625857911, 15.949245025817227, -11.736000332943604, -7.535905689376165, 4.872791656330023, 6.13381532593246, 8.16100031473772, -2.8819294465580327, -8.7270326430627, -2.2958948813200095, -13.88892552264636, -9.330309025295094, -1.6107367452173662, -0.8783469113279523, -14.831772998081021, 2.0478317117642035, -0.17540837180207802, -2.0205770182278258, -1.7394446001082002, 7.822052361727785, -2.048564365162747, 16.668329677089474, -2.6995949903790404, 0.1375464950730958, 9.141430319006076, -7.680404449888698, -20.01452486669922, 1.242762227666617, 4.677975720000816, -7.136679761516035, 8.405198764366517, 0.2624483324011493, 1.9497455601470364, 3.171883104038315, 4.403556901400066, -0.1799073964438236, 15.700785678231256, 5.286692051047837, 20.390691188329114, 16.55467507917963, 7.0980212220445225, -4.481568680863816, 2.4801664984801732, 9.096876967665146, -2.2783967032609667, -1.223494323395471, 25.080300743052348, -12.231584469492162, 19.67565511875482, -16.90621052774516, 10.100473616926678, 5.8164422072090645, 0.15421179434767396, 21.173411490868688, -0.6736699359962017, 8.32528025441141, 0.637914336663826, 20.469022704834984, 11.855806381827776, 7.156045752578407, -7.7801712990012675, 4.85108008384357, 0.5062851125377676, -4.434202632030335, -6.287645036871609, -16.88641682968806, 6.974154120421588, 4.522121811011232, 2.9270361566274943, -8.491350706274261, 1.8121094335240002, 12.287076328294745, 4.609190265601299, 5.427113100153932, 4.101890891855973, -9.081270076531766, 11.756554299245778, 0.030537396366781877, -10.696582717344029, -6.223901713143363, 9.55563601007806, -0.026624571506445704, -0.6126112599942388, 12.312146114822028, -4.065947439410422, -8.856518331483798, 3.0414318625579995, 17.534609204888753, -0.4100748113656323, -9.813598362372915, 2.963049473858092, 5.188210008121047, 8.998900050892843, -10.109861600005104, 20.172038803844572, 21.75280982328556, 3.5640577950906476, -14.461401496131558, 16.193618794788676, -0.45729762347988867, -9.713118406724561, -7.684338677901863, -9.465415292158795, -4.917459728609018, 3.751830303069383, -5.076006915267804, -19.25230683267965, 10.815287567947436, -2.065980822736293, 4.8785799934739345, -2.056468448442601, -9.527218156225743, -9.490409261533145, -8.308113917155325, 8.444405733961332, -4.536750916973517, -7.866332054507296, 14.997610809699282, -8.617657705000894, -12.258498970561519, -5.946062860631713, -4.404258004600322, 5.5546428457811885, -5.709042566488037, 3.0468016934256354, -9.277101281302606, 18.0714145240501, 4.54459042675488, -1.141210764649614, 18.041950965070022, 23.162324557233802, -1.188037361287627, -5.15962198464706, -1.541108467754654, -0.8872062037475956, 16.701215860379932, -10.215402781112175, -7.155171003169528, 1.4558116307196514, 8.14296821307407, 3.850928330030513, 4.283584447776093, 0.5707785654321498, -7.382367042209381, -11.849767971064068, 8.992135991290212, 23.706369009039093, -1.64309076899778, 0.6200432755642709, 0.1782644344927462, -8.910653288106943, -8.587585818500656, -9.994873811915483, 4.334924398992015, 2.7434506934952765, -9.153806244843551, -2.8824482485211433, -0.445842883916427, 7.354206430134454, 0.8448208042930929, 5.239061790417892, 10.037999079005203, 1.4144743027748348, -7.59850499320433, 17.919926186692607, 3.7132078294762465, -4.638392246043551, -0.19880897564389954, 7.493112614315763, -9.752410319536935, 3.335267687590189, -9.826638126439889, -6.8608494445504675, -5.321070654950773, -14.08290740263233, 7.620336313459717, -7.022491662792007, 5.982948820394, 19.686491312844367, -18.051918467507406, 3.115550063385612, -6.947907513028753, -18.480532743147407, -4.353225829162994, 0.5106294532562003, 3.3023916153418327, -17.970009163334225, 2.5416455158064366, 11.564376657895679, -1.4028578564337977, -4.793703241886263, -2.357306147868144, 12.409334154788525, 3.5309733415856783, 4.798551035799008, -0.6743670282343857, -3.211497807044225, 8.53807305818249, -7.5165063805555405, 9.69618360717375, 8.23835135153763, -0.5296168263480467, -5.864914023959031, 6.350173698894217, 2.365089891815515, 2.8658891041310284, -2.143672436085751, -4.718853513753174, -8.531886605670536, 12.98207638600745, 9.390151962611839, 4.008852098464658, 15.712775857473396, -6.070764675886835, -0.8225800931192708, 22.334932565792172, 5.068479965797195, 3.3512254985226377, 2.5739041587638667, -4.192236046490962, 18.014600287079162, -3.0268093102218074, -3.707572104047159, -1.0372199578511072, -22.650957093893, 0.8068417343429246, -2.512817894316669, 8.674149263241802, -0.6000345026631493, -17.56987991601889, 15.853842329909142, -7.987421041225232, -16.77603220050824, 2.14092668464707, -18.902596355472213, 12.698678217427485, -1.0811926162062377, -5.058490282028089, -4.471466716169303, -21.620799990173083, 1.3734851751387822, -6.640580020206528, 12.78154574963034, -2.6836834740026063, -7.402781735485874, 6.9646579019878345, 4.992937494167094, -4.18166581908234, 15.712191562921902, -6.327516384239615, 11.976837732871388, -24.443080083654834, -1.8797670618729256, 8.643805272713891, 4.062593722726518, 11.760152434891552, -0.07759293252422594, 20.840489463061346, -3.838690687236337, 0.1413670480770719, -4.38412875296477, -4.166445669337193, 5.5195386732897305, 4.173829928572033, 2.038193324190317, 11.798078339147153, 6.211162074474743, 16.337565831680124, 2.7208556692015122, -10.209568128270845, -7.147446636305418, 1.9123116888429195, 19.967587825777898, 12.214372217369743, 6.512097099630502, 21.232479186841857, 19.061324256140153, 14.75063409784076, 2.3166825335397476, 12.378526126182237, 6.031904561175267, -2.169007437250116, -21.353341646071357, 7.159434769703253, -1.044174023550454, -0.2180993989414759, 0.42438178294509044, 12.60010233942667, -8.994321860544886, -4.75938449424666, -5.220206710223792, -0.6484507044794583, 7.853887519828902, 6.630258992659883, -3.596708172636397, 0.7912396969741025, 7.849819195558155, 6.983893958597449, 1.109581739150812, 0.5800114635821245, -0.10283037615320723, -3.444092468463211, 6.790572525438449, 5.429305017843319, -11.51903079710057, 5.9883979247078685, -7.659504735885534, 3.51053390247732, 19.303280882387043, -4.633069234295206, -12.165677942783006, 3.3027272847527485, -3.040624322736207, -1.7723600558792612, 5.474346661236424, 18.949568838306277, -20.775701470670484, 7.561539549359054, -17.657178269956106, -1.941565868010244, 5.107577006635893, 4.157680905304673, -2.567146798209464, 16.075503809874064, -0.24821463849120562, 1.0177423537525243, -9.699938076575464, -4.037440279453065, -16.926414339417306, 9.819380769021024, -12.50285265660412, -3.2514391118967723, 14.801803984957743, -18.79557668236407, -10.041960230107208, -13.149026187865744, 4.729846514437483, -3.054113099316922, -11.941306975622666, 3.5137103892492405, 11.77145147778539, 27.796977465245078, -6.805671800661159, 3.3742981234134106, -0.2564896853106404, 5.47937752766552, 1.4805109238894971, 7.405492259434936, 25.013195011307033, 0.5366123212783691, -2.1354211482340304, -1.5907095802787978, -8.931134683696456, -0.40294832282053505, -7.53770975512208, 13.13627850870887, -2.9646621425027604, -16.300783579925053, 12.79828609252894, 10.081268597328815, 15.824559315993, 8.569564726870667, -0.7622283784654655, 2.3629388458508203, -3.142067018303109, 20.996856463766704, 22.302986369110414, -4.53393633980771, -1.4913354864126518, -5.947218622970055, 20.52072551245943, 14.481704265888538, 2.0986788054679977, -18.119597616843166, 7.128586676446957, -21.373414503949, 6.056343940140934, 11.061695257807557, 7.433004990456482, 3.2296735074769884, -10.644591789896168, 6.09755018190662, 5.594378031560481, 0.3541919249649368, 4.637574141003114, 9.450999584273148, 21.599721234863054, -1.064693570051304, 4.157598441486371, 0.9749337087091732, -24.158448625183638, 1.328545989264569, -1.9863095828239778, -5.670824099123834, 3.2051294538476895, 26.132315904789138, -3.8941789835730276, -5.237966442347911, -3.5209052452659932, 15.458374190765397, 1.0905700749971032, -2.848193789702208, 5.846694558894782, -3.8747111708415076, -11.443088405319486, -7.7261168528683015, 15.398688140672832, 1.313719596106239, 11.94719334594599, -16.76459265685591, 1.3285543216286015, 14.552478829832438, 1.1328531872237164, -14.410598044004175, 11.179570729649058, -22.350108133566394, 2.123252760438376, -14.636510877162124, -12.93089434777228, -7.611380600013533, 11.046640493968454, -17.009439852106766, 9.640309019707473, 6.0396736726862486, -6.382883191226853, 7.239219967827708, -7.5098655021173215, -3.407536921617279, -6.3925497837413445, -10.33511089988481, 20.996429035250024, -19.992375591832044, 9.110295174620916, 3.340634941742735, 9.656945187673443, -11.155509185686327, 13.6386116078465, 11.536314955520098], \"xaxis\": \"x\", \"yaxis\": \"y\"}],                        {\"barmode\": \"relative\", \"legend\": {\"tracegroupgap\": 0}, \"margin\": {\"t\": 60}, \"template\": {\"data\": {\"bar\": [{\"error_x\": {\"color\": \"#2a3f5f\"}, \"error_y\": {\"color\": \"#2a3f5f\"}, \"marker\": {\"line\": {\"color\": \"#E5ECF6\", \"width\": 0.5}}, \"type\": \"bar\"}], \"barpolar\": [{\"marker\": {\"line\": {\"color\": \"#E5ECF6\", \"width\": 0.5}}, \"type\": \"barpolar\"}], \"carpet\": [{\"aaxis\": {\"endlinecolor\": \"#2a3f5f\", \"gridcolor\": \"white\", \"linecolor\": \"white\", \"minorgridcolor\": \"white\", \"startlinecolor\": \"#2a3f5f\"}, \"baxis\": {\"endlinecolor\": \"#2a3f5f\", \"gridcolor\": \"white\", \"linecolor\": \"white\", \"minorgridcolor\": \"white\", \"startlinecolor\": \"#2a3f5f\"}, \"type\": \"carpet\"}], \"choropleth\": [{\"colorbar\": {\"outlinewidth\": 0, \"ticks\": \"\"}, \"type\": \"choropleth\"}], \"contour\": [{\"colorbar\": {\"outlinewidth\": 0, \"ticks\": \"\"}, \"colorscale\": [[0.0, \"#0d0887\"], [0.1111111111111111, \"#46039f\"], [0.2222222222222222, \"#7201a8\"], [0.3333333333333333, \"#9c179e\"], [0.4444444444444444, \"#bd3786\"], [0.5555555555555556, \"#d8576b\"], [0.6666666666666666, \"#ed7953\"], [0.7777777777777778, \"#fb9f3a\"], [0.8888888888888888, \"#fdca26\"], [1.0, \"#f0f921\"]], \"type\": \"contour\"}], \"contourcarpet\": [{\"colorbar\": {\"outlinewidth\": 0, \"ticks\": \"\"}, \"type\": \"contourcarpet\"}], \"heatmap\": [{\"colorbar\": {\"outlinewidth\": 0, \"ticks\": \"\"}, \"colorscale\": [[0.0, \"#0d0887\"], [0.1111111111111111, \"#46039f\"], [0.2222222222222222, \"#7201a8\"], [0.3333333333333333, \"#9c179e\"], [0.4444444444444444, \"#bd3786\"], [0.5555555555555556, \"#d8576b\"], [0.6666666666666666, \"#ed7953\"], [0.7777777777777778, \"#fb9f3a\"], [0.8888888888888888, \"#fdca26\"], [1.0, \"#f0f921\"]], \"type\": \"heatmap\"}], \"heatmapgl\": [{\"colorbar\": {\"outlinewidth\": 0, \"ticks\": \"\"}, \"colorscale\": [[0.0, \"#0d0887\"], [0.1111111111111111, \"#46039f\"], [0.2222222222222222, \"#7201a8\"], [0.3333333333333333, \"#9c179e\"], [0.4444444444444444, \"#bd3786\"], [0.5555555555555556, \"#d8576b\"], [0.6666666666666666, \"#ed7953\"], [0.7777777777777778, \"#fb9f3a\"], [0.8888888888888888, \"#fdca26\"], [1.0, \"#f0f921\"]], \"type\": \"heatmapgl\"}], \"histogram\": [{\"marker\": {\"colorbar\": {\"outlinewidth\": 0, \"ticks\": \"\"}}, \"type\": \"histogram\"}], \"histogram2d\": [{\"colorbar\": {\"outlinewidth\": 0, \"ticks\": \"\"}, \"colorscale\": [[0.0, \"#0d0887\"], [0.1111111111111111, \"#46039f\"], [0.2222222222222222, \"#7201a8\"], [0.3333333333333333, \"#9c179e\"], [0.4444444444444444, \"#bd3786\"], [0.5555555555555556, \"#d8576b\"], [0.6666666666666666, \"#ed7953\"], [0.7777777777777778, \"#fb9f3a\"], [0.8888888888888888, \"#fdca26\"], [1.0, \"#f0f921\"]], \"type\": \"histogram2d\"}], \"histogram2dcontour\": [{\"colorbar\": {\"outlinewidth\": 0, \"ticks\": \"\"}, \"colorscale\": [[0.0, \"#0d0887\"], [0.1111111111111111, \"#46039f\"], [0.2222222222222222, \"#7201a8\"], [0.3333333333333333, \"#9c179e\"], [0.4444444444444444, \"#bd3786\"], [0.5555555555555556, \"#d8576b\"], [0.6666666666666666, \"#ed7953\"], [0.7777777777777778, \"#fb9f3a\"], [0.8888888888888888, \"#fdca26\"], [1.0, \"#f0f921\"]], \"type\": \"histogram2dcontour\"}], \"mesh3d\": [{\"colorbar\": {\"outlinewidth\": 0, \"ticks\": \"\"}, \"type\": \"mesh3d\"}], \"parcoords\": [{\"line\": {\"colorbar\": {\"outlinewidth\": 0, \"ticks\": \"\"}}, \"type\": \"parcoords\"}], \"pie\": [{\"automargin\": true, \"type\": \"pie\"}], \"scatter\": [{\"marker\": {\"colorbar\": {\"outlinewidth\": 0, \"ticks\": \"\"}}, \"type\": \"scatter\"}], \"scatter3d\": [{\"line\": {\"colorbar\": {\"outlinewidth\": 0, \"ticks\": \"\"}}, \"marker\": {\"colorbar\": {\"outlinewidth\": 0, \"ticks\": \"\"}}, \"type\": \"scatter3d\"}], \"scattercarpet\": [{\"marker\": {\"colorbar\": {\"outlinewidth\": 0, \"ticks\": \"\"}}, \"type\": \"scattercarpet\"}], \"scattergeo\": [{\"marker\": {\"colorbar\": {\"outlinewidth\": 0, \"ticks\": \"\"}}, \"type\": \"scattergeo\"}], \"scattergl\": [{\"marker\": {\"colorbar\": {\"outlinewidth\": 0, \"ticks\": \"\"}}, \"type\": \"scattergl\"}], \"scattermapbox\": [{\"marker\": {\"colorbar\": {\"outlinewidth\": 0, \"ticks\": \"\"}}, \"type\": \"scattermapbox\"}], \"scatterpolar\": [{\"marker\": {\"colorbar\": {\"outlinewidth\": 0, \"ticks\": \"\"}}, \"type\": \"scatterpolar\"}], \"scatterpolargl\": [{\"marker\": {\"colorbar\": {\"outlinewidth\": 0, \"ticks\": \"\"}}, \"type\": \"scatterpolargl\"}], \"scatterternary\": [{\"marker\": {\"colorbar\": {\"outlinewidth\": 0, \"ticks\": \"\"}}, \"type\": \"scatterternary\"}], \"surface\": [{\"colorbar\": {\"outlinewidth\": 0, \"ticks\": \"\"}, \"colorscale\": [[0.0, \"#0d0887\"], [0.1111111111111111, \"#46039f\"], [0.2222222222222222, \"#7201a8\"], [0.3333333333333333, \"#9c179e\"], [0.4444444444444444, \"#bd3786\"], [0.5555555555555556, \"#d8576b\"], [0.6666666666666666, \"#ed7953\"], [0.7777777777777778, \"#fb9f3a\"], [0.8888888888888888, \"#fdca26\"], [1.0, \"#f0f921\"]], \"type\": \"surface\"}], \"table\": [{\"cells\": {\"fill\": {\"color\": \"#EBF0F8\"}, \"line\": {\"color\": \"white\"}}, \"header\": {\"fill\": {\"color\": \"#C8D4E3\"}, \"line\": {\"color\": \"white\"}}, \"type\": \"table\"}]}, \"layout\": {\"annotationdefaults\": {\"arrowcolor\": \"#2a3f5f\", \"arrowhead\": 0, \"arrowwidth\": 1}, \"coloraxis\": {\"colorbar\": {\"outlinewidth\": 0, \"ticks\": \"\"}}, \"colorscale\": {\"diverging\": [[0, \"#8e0152\"], [0.1, \"#c51b7d\"], [0.2, \"#de77ae\"], [0.3, \"#f1b6da\"], [0.4, \"#fde0ef\"], [0.5, \"#f7f7f7\"], [0.6, \"#e6f5d0\"], [0.7, \"#b8e186\"], [0.8, \"#7fbc41\"], [0.9, \"#4d9221\"], [1, \"#276419\"]], \"sequential\": [[0.0, \"#0d0887\"], [0.1111111111111111, \"#46039f\"], [0.2222222222222222, \"#7201a8\"], [0.3333333333333333, \"#9c179e\"], [0.4444444444444444, \"#bd3786\"], [0.5555555555555556, \"#d8576b\"], [0.6666666666666666, \"#ed7953\"], [0.7777777777777778, \"#fb9f3a\"], [0.8888888888888888, \"#fdca26\"], [1.0, \"#f0f921\"]], \"sequentialminus\": [[0.0, \"#0d0887\"], [0.1111111111111111, \"#46039f\"], [0.2222222222222222, \"#7201a8\"], [0.3333333333333333, \"#9c179e\"], [0.4444444444444444, \"#bd3786\"], [0.5555555555555556, \"#d8576b\"], [0.6666666666666666, \"#ed7953\"], [0.7777777777777778, \"#fb9f3a\"], [0.8888888888888888, \"#fdca26\"], [1.0, \"#f0f921\"]]}, \"colorway\": [\"#636efa\", \"#EF553B\", \"#00cc96\", \"#ab63fa\", \"#FFA15A\", \"#19d3f3\", \"#FF6692\", \"#B6E880\", \"#FF97FF\", \"#FECB52\"], \"font\": {\"color\": \"#2a3f5f\"}, \"geo\": {\"bgcolor\": \"white\", \"lakecolor\": \"white\", \"landcolor\": \"#E5ECF6\", \"showlakes\": true, \"showland\": true, \"subunitcolor\": \"white\"}, \"hoverlabel\": {\"align\": \"left\"}, \"hovermode\": \"closest\", \"mapbox\": {\"style\": \"light\"}, \"paper_bgcolor\": \"white\", \"plot_bgcolor\": \"#E5ECF6\", \"polar\": {\"angularaxis\": {\"gridcolor\": \"white\", \"linecolor\": \"white\", \"ticks\": \"\"}, \"bgcolor\": \"#E5ECF6\", \"radialaxis\": {\"gridcolor\": \"white\", \"linecolor\": \"white\", \"ticks\": \"\"}}, \"scene\": {\"xaxis\": {\"backgroundcolor\": \"#E5ECF6\", \"gridcolor\": \"white\", \"gridwidth\": 2, \"linecolor\": \"white\", \"showbackground\": true, \"ticks\": \"\", \"zerolinecolor\": \"white\"}, \"yaxis\": {\"backgroundcolor\": \"#E5ECF6\", \"gridcolor\": \"white\", \"gridwidth\": 2, \"linecolor\": \"white\", \"showbackground\": true, \"ticks\": \"\", \"zerolinecolor\": \"white\"}, \"zaxis\": {\"backgroundcolor\": \"#E5ECF6\", \"gridcolor\": \"white\", \"gridwidth\": 2, \"linecolor\": \"white\", \"showbackground\": true, \"ticks\": \"\", \"zerolinecolor\": \"white\"}}, \"shapedefaults\": {\"line\": {\"color\": \"#2a3f5f\"}}, \"ternary\": {\"aaxis\": {\"gridcolor\": \"white\", \"linecolor\": \"white\", \"ticks\": \"\"}, \"baxis\": {\"gridcolor\": \"white\", \"linecolor\": \"white\", \"ticks\": \"\"}, \"bgcolor\": \"#E5ECF6\", \"caxis\": {\"gridcolor\": \"white\", \"linecolor\": \"white\", \"ticks\": \"\"}}, \"title\": {\"x\": 0.05}, \"xaxis\": {\"automargin\": true, \"gridcolor\": \"white\", \"linecolor\": \"white\", \"ticks\": \"\", \"title\": {\"standoff\": 15}, \"zerolinecolor\": \"white\", \"zerolinewidth\": 2}, \"yaxis\": {\"automargin\": true, \"gridcolor\": \"white\", \"linecolor\": \"white\", \"ticks\": \"\", \"title\": {\"standoff\": 15}, \"zerolinecolor\": \"white\", \"zerolinewidth\": 2}}}, \"width\": 800, \"xaxis\": {\"anchor\": \"y\", \"domain\": [0.0, 1.0], \"title\": {\"text\": \"error\"}}, \"yaxis\": {\"anchor\": \"x\", \"domain\": [0.0, 1.0], \"title\": {\"text\": \"count\"}}},                        {\"responsive\": true}                    ).then(function(){\n",
       "                            \n",
       "var gd = document.getElementById('339305fa-cbab-4f20-830b-156e29115faf');\n",
       "var x = new MutationObserver(function (mutations, observer) {{\n",
       "        var display = window.getComputedStyle(gd).display;\n",
       "        if (!display || display === 'none') {{\n",
       "            console.log([gd, 'removed!']);\n",
       "            Plotly.purge(gd);\n",
       "            observer.disconnect();\n",
       "        }}\n",
       "}});\n",
       "\n",
       "// Listen for the removal of the full notebook cells\n",
       "var notebookContainer = gd.closest('#notebook-container');\n",
       "if (notebookContainer) {{\n",
       "    x.observe(notebookContainer, {childList: true});\n",
       "}}\n",
       "\n",
       "// Listen for the clearing of the current output cell\n",
       "var outputEl = gd.closest('.output');\n",
       "if (outputEl) {{\n",
       "    x.observe(outputEl, {childList: true});\n",
       "}}\n",
       "\n",
       "                        })                };                });            </script>        </div>"
      ]
     },
     "metadata": {},
     "output_type": "display_data"
    }
   ],
   "source": [
    "y_true = 100 + 20 * np.random.randn(1000)\n",
    "y_pred = y_true + 10 * np.random.randn(1000)\n",
    "results = pd.DataFrame({'y_true': y_true, 'y_pred': y_pred})\n",
    "results['error'] = results['y_true'] - results['y_pred']\n",
    "\n",
    "px.histogram(results, x='error', nbins=50, width=800)"
   ]
  },
  {
   "cell_type": "code",
   "execution_count": 20,
   "metadata": {},
   "outputs": [
    {
     "data": {
      "text/plain": [
       "8.010882572551964"
      ]
     },
     "execution_count": 20,
     "metadata": {},
     "output_type": "execute_result"
    }
   ],
   "source": [
    "#mean Absolute Error (MAE) -Średni błąd bezwzględny\n",
    "def mean_absolute_error(y_true, y_pred):\n",
    "    return abs(y_true - y_pred).sum() / len(y_true)\n",
    "\n",
    "mean_absolute_error(y_true, y_pred)"
   ]
  },
  {
   "cell_type": "code",
   "execution_count": 21,
   "metadata": {},
   "outputs": [
    {
     "data": {
      "text/plain": [
       "8.010882572551964"
      ]
     },
     "execution_count": 21,
     "metadata": {},
     "output_type": "execute_result"
    }
   ],
   "source": [
    "from sklearn.metrics import mean_absolute_error\n",
    "mean_absolute_error(y_true, y_pred)"
   ]
  },
  {
   "cell_type": "code",
   "execution_count": 23,
   "metadata": {},
   "outputs": [
    {
     "data": {
      "text/plain": [
       "103.9160704164471"
      ]
     },
     "execution_count": 23,
     "metadata": {},
     "output_type": "execute_result"
    }
   ],
   "source": [
    "#Mean squared Error (MSE) - Błąd średniokwadratowy\n",
    "def mean_squared_error(y_true, y_pred):\n",
    "    return ((y_true - y_pred) ** 2).sum() / len(y_true)\n",
    "mean_squared_error(y_true, y_pred)"
   ]
  },
  {
   "cell_type": "code",
   "execution_count": 24,
   "metadata": {},
   "outputs": [
    {
     "data": {
      "text/plain": [
       "103.9160704164471"
      ]
     },
     "execution_count": 24,
     "metadata": {},
     "output_type": "execute_result"
    }
   ],
   "source": [
    "from sklearn.metrics import mean_squared_error\n",
    "\n",
    "mean_squared_error(y_true, y_pred)"
   ]
  },
  {
   "cell_type": "code",
   "execution_count": 25,
   "metadata": {},
   "outputs": [
    {
     "data": {
      "text/plain": [
       "10.193923210248697"
      ]
     },
     "execution_count": 25,
     "metadata": {},
     "output_type": "execute_result"
    }
   ],
   "source": [
    "# Root Mean Squared Error (RMSE) - Pierwiastek błędu średniokwadratowego\n",
    "def root_mean_squared_error(y_true, y_pred):\n",
    "    return np.sqrt(((y_true - y_pred) ** 2).sum() / len(y_true))\n",
    "root_mean_squared_error(y_true, y_pred)"
   ]
  },
  {
   "cell_type": "code",
   "execution_count": 26,
   "metadata": {},
   "outputs": [
    {
     "data": {
      "text/plain": [
       "41.56515882789233"
      ]
     },
     "execution_count": 26,
     "metadata": {},
     "output_type": "execute_result"
    }
   ],
   "source": [
    "#Max error - błąd maksymalny\n",
    "def max_error(y_true, y_pred):\n",
    "    return abs(y_true - y_pred).max()\n",
    "max_error(y_true, y_pred)"
   ]
  },
  {
   "cell_type": "code",
   "execution_count": 28,
   "metadata": {},
   "outputs": [
    {
     "data": {
      "text/plain": [
       "41.56515882789233"
      ]
     },
     "execution_count": 28,
     "metadata": {},
     "output_type": "execute_result"
    }
   ],
   "source": [
    "from sklearn.metrics import max_error\n",
    "max_error(y_true, y_pred)"
   ]
  },
  {
   "cell_type": "code",
   "execution_count": 29,
   "metadata": {},
   "outputs": [
    {
     "data": {
      "text/plain": [
       "0.748397136344637"
      ]
     },
     "execution_count": 29,
     "metadata": {},
     "output_type": "execute_result"
    }
   ],
   "source": [
    "#R2 score - współczynnik determinacji\n",
    "\n",
    "from sklearn.metrics import r2_score\n",
    "\n",
    "r2_score(y_true, y_pred)"
   ]
  },
  {
   "cell_type": "code",
   "execution_count": 32,
   "metadata": {},
   "outputs": [],
   "source": [
    "def r2_score(y_true, y_pred):\n",
    "    numerator = ((y_true - y_pred) ** 2).sum()\n",
    "    denominator = ((y_true - y_pred.mean()) ** 2).sum()\n",
    "    try:\n",
    "        r2 = 1-numerator / denominator\n",
    "    except ZeroDivisionError:\n",
    "            print('Dzielenie przez zero')\n",
    "    return r2"
   ]
  },
  {
   "cell_type": "code",
   "execution_count": 33,
   "metadata": {},
   "outputs": [
    {
     "data": {
      "text/plain": [
       "0.7484298428920076"
      ]
     },
     "execution_count": 33,
     "metadata": {},
     "output_type": "execute_result"
    }
   ],
   "source": [
    "r2_score(y_true, y_pred)"
   ]
  },
  {
   "cell_type": "code",
   "execution_count": null,
   "metadata": {},
   "outputs": [],
   "source": []
  }
 ],
 "metadata": {
  "kernelspec": {
   "display_name": "Python 3",
   "language": "python",
   "name": "python3"
  },
  "language_info": {
   "codemirror_mode": {
    "name": "ipython",
    "version": 3
   },
   "file_extension": ".py",
   "mimetype": "text/x-python",
   "name": "python",
   "nbconvert_exporter": "python",
   "pygments_lexer": "ipython3",
   "version": "3.7.6"
  }
 },
 "nbformat": 4,
 "nbformat_minor": 4
}
